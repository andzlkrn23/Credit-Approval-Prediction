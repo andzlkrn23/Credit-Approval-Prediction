{
 "cells": [
  {
   "cell_type": "markdown",
   "metadata": {},
   "source": [
    "# **PERKENALAN**"
   ]
  },
  {
   "cell_type": "markdown",
   "metadata": {},
   "source": [
    "Nama : Andira Dzulkarnain\n",
    "\n",
    "Batch : 006\n",
    "\n",
    "Objective :\n",
    "\n",
    "Perusahaan ini ingin melakukan digitalisasi real time berdasarkan informasi yang diberikan oleh calon nasabah yang diisi secara online. Untuk mengotomisasi proses ini kita perlu memprediksi informais yang diberikan oleh calon nasabah dan dengan bantuan machine learning diharapkan dapat dimunculkan prediksi apakah seseorang dapat diterima atau ditolak pengajuan kreditnya.\n",
    "\n",
    "Link Hugging Face :\n",
    "\n",
    "https://huggingface.co/spaces/Dzlkrn/ML2\n",
    "\n",
    "Link Kaggle :\n",
    "\n",
    "https://www.kaggle.com/datasets/ninzaami/loan-predication"
   ]
  },
  {
   "cell_type": "markdown",
   "metadata": {},
   "source": [
    "## **IMPORT LIBRARIES**"
   ]
  },
  {
   "cell_type": "code",
   "execution_count": 1,
   "metadata": {},
   "outputs": [],
   "source": [
    "import pandas as pd\n",
    "import numpy as np\n",
    "import matplotlib.pyplot as plt\n",
    "import seaborn as sns\n",
    "import warnings\n",
    "import joblib\n",
    "import phik\n",
    "import imblearn\n",
    "\n",
    "from numpy import array \n",
    "from feature_engine.outliers import Winsorizer\n",
    "from sklearn.impute import SimpleImputer, KNNImputer\n",
    "from sklearn.preprocessing import StandardScaler, MinMaxScaler, OneHotEncoder, OrdinalEncoder, FunctionTransformer\n",
    "from sklearn.pipeline import Pipeline\n",
    "from sklearn.compose import ColumnTransformer, TransformedTargetRegressor\n",
    "from sklearn.model_selection import GridSearchCV, cross_val_score, KFold, train_test_split\n",
    "from sklearn.metrics import accuracy_score, precision_score, recall_score, f1_score, mean_absolute_error, roc_auc_score, ConfusionMatrixDisplay, confusion_matrix, classification_report\n",
    "from sklearn.feature_selection import SelectKBest, chi2, f_classif\n",
    "from sklearn.inspection import permutation_importance\n",
    "from sklearn.ensemble import AdaBoostClassifier, RandomForestClassifier, GradientBoostingClassifier\n",
    "from sklearn.tree import DecisionTreeClassifier\n",
    "from sklearn.neighbors import KNeighborsClassifier\n",
    "from sklearn.naive_bayes import BernoulliNB, GaussianNB\n",
    "from sklearn.linear_model import LogisticRegression \n",
    "from sklearn.svm import SVC\n",
    "from sklearn.feature_selection import SelectFromModel\n",
    "from sklearn.base import BaseEstimator, TransformerMixin\n",
    "from imblearn.over_sampling import SMOTENC\n",
    "\n",
    "warnings.filterwarnings(action='ignore')\n",
    "\n",
    "%matplotlib inline\n"
   ]
  },
  {
   "cell_type": "markdown",
   "metadata": {},
   "source": [
    "# **DATA LOADING**"
   ]
  },
  {
   "cell_type": "code",
   "execution_count": 2,
   "metadata": {},
   "outputs": [
    {
     "data": {
      "text/html": [
       "<div>\n",
       "<style scoped>\n",
       "    .dataframe tbody tr th:only-of-type {\n",
       "        vertical-align: middle;\n",
       "    }\n",
       "\n",
       "    .dataframe tbody tr th {\n",
       "        vertical-align: top;\n",
       "    }\n",
       "\n",
       "    .dataframe thead th {\n",
       "        text-align: right;\n",
       "    }\n",
       "</style>\n",
       "<table border=\"1\" class=\"dataframe\">\n",
       "  <thead>\n",
       "    <tr style=\"text-align: right;\">\n",
       "      <th></th>\n",
       "      <th>Loan_ID</th>\n",
       "      <th>Gender</th>\n",
       "      <th>Married</th>\n",
       "      <th>Dependents</th>\n",
       "      <th>Education</th>\n",
       "      <th>Self_Employed</th>\n",
       "      <th>ApplicantIncome</th>\n",
       "      <th>CoapplicantIncome</th>\n",
       "      <th>LoanAmount</th>\n",
       "      <th>Loan_Amount_Term</th>\n",
       "      <th>Credit_History</th>\n",
       "      <th>Property_Area</th>\n",
       "      <th>Loan_Status</th>\n",
       "    </tr>\n",
       "  </thead>\n",
       "  <tbody>\n",
       "    <tr>\n",
       "      <th>0</th>\n",
       "      <td>LP001002</td>\n",
       "      <td>Male</td>\n",
       "      <td>No</td>\n",
       "      <td>0</td>\n",
       "      <td>Graduate</td>\n",
       "      <td>No</td>\n",
       "      <td>5849</td>\n",
       "      <td>0.0</td>\n",
       "      <td>NaN</td>\n",
       "      <td>360.0</td>\n",
       "      <td>1.0</td>\n",
       "      <td>Urban</td>\n",
       "      <td>Y</td>\n",
       "    </tr>\n",
       "    <tr>\n",
       "      <th>1</th>\n",
       "      <td>LP001003</td>\n",
       "      <td>Male</td>\n",
       "      <td>Yes</td>\n",
       "      <td>1</td>\n",
       "      <td>Graduate</td>\n",
       "      <td>No</td>\n",
       "      <td>4583</td>\n",
       "      <td>1508.0</td>\n",
       "      <td>128.0</td>\n",
       "      <td>360.0</td>\n",
       "      <td>1.0</td>\n",
       "      <td>Rural</td>\n",
       "      <td>N</td>\n",
       "    </tr>\n",
       "    <tr>\n",
       "      <th>2</th>\n",
       "      <td>LP001005</td>\n",
       "      <td>Male</td>\n",
       "      <td>Yes</td>\n",
       "      <td>0</td>\n",
       "      <td>Graduate</td>\n",
       "      <td>Yes</td>\n",
       "      <td>3000</td>\n",
       "      <td>0.0</td>\n",
       "      <td>66.0</td>\n",
       "      <td>360.0</td>\n",
       "      <td>1.0</td>\n",
       "      <td>Urban</td>\n",
       "      <td>Y</td>\n",
       "    </tr>\n",
       "    <tr>\n",
       "      <th>3</th>\n",
       "      <td>LP001006</td>\n",
       "      <td>Male</td>\n",
       "      <td>Yes</td>\n",
       "      <td>0</td>\n",
       "      <td>Not Graduate</td>\n",
       "      <td>No</td>\n",
       "      <td>2583</td>\n",
       "      <td>2358.0</td>\n",
       "      <td>120.0</td>\n",
       "      <td>360.0</td>\n",
       "      <td>1.0</td>\n",
       "      <td>Urban</td>\n",
       "      <td>Y</td>\n",
       "    </tr>\n",
       "    <tr>\n",
       "      <th>4</th>\n",
       "      <td>LP001008</td>\n",
       "      <td>Male</td>\n",
       "      <td>No</td>\n",
       "      <td>0</td>\n",
       "      <td>Graduate</td>\n",
       "      <td>No</td>\n",
       "      <td>6000</td>\n",
       "      <td>0.0</td>\n",
       "      <td>141.0</td>\n",
       "      <td>360.0</td>\n",
       "      <td>1.0</td>\n",
       "      <td>Urban</td>\n",
       "      <td>Y</td>\n",
       "    </tr>\n",
       "    <tr>\n",
       "      <th>...</th>\n",
       "      <td>...</td>\n",
       "      <td>...</td>\n",
       "      <td>...</td>\n",
       "      <td>...</td>\n",
       "      <td>...</td>\n",
       "      <td>...</td>\n",
       "      <td>...</td>\n",
       "      <td>...</td>\n",
       "      <td>...</td>\n",
       "      <td>...</td>\n",
       "      <td>...</td>\n",
       "      <td>...</td>\n",
       "      <td>...</td>\n",
       "    </tr>\n",
       "    <tr>\n",
       "      <th>609</th>\n",
       "      <td>LP002978</td>\n",
       "      <td>Female</td>\n",
       "      <td>No</td>\n",
       "      <td>0</td>\n",
       "      <td>Graduate</td>\n",
       "      <td>No</td>\n",
       "      <td>2900</td>\n",
       "      <td>0.0</td>\n",
       "      <td>71.0</td>\n",
       "      <td>360.0</td>\n",
       "      <td>1.0</td>\n",
       "      <td>Rural</td>\n",
       "      <td>Y</td>\n",
       "    </tr>\n",
       "    <tr>\n",
       "      <th>610</th>\n",
       "      <td>LP002979</td>\n",
       "      <td>Male</td>\n",
       "      <td>Yes</td>\n",
       "      <td>3+</td>\n",
       "      <td>Graduate</td>\n",
       "      <td>No</td>\n",
       "      <td>4106</td>\n",
       "      <td>0.0</td>\n",
       "      <td>40.0</td>\n",
       "      <td>180.0</td>\n",
       "      <td>1.0</td>\n",
       "      <td>Rural</td>\n",
       "      <td>Y</td>\n",
       "    </tr>\n",
       "    <tr>\n",
       "      <th>611</th>\n",
       "      <td>LP002983</td>\n",
       "      <td>Male</td>\n",
       "      <td>Yes</td>\n",
       "      <td>1</td>\n",
       "      <td>Graduate</td>\n",
       "      <td>No</td>\n",
       "      <td>8072</td>\n",
       "      <td>240.0</td>\n",
       "      <td>253.0</td>\n",
       "      <td>360.0</td>\n",
       "      <td>1.0</td>\n",
       "      <td>Urban</td>\n",
       "      <td>Y</td>\n",
       "    </tr>\n",
       "    <tr>\n",
       "      <th>612</th>\n",
       "      <td>LP002984</td>\n",
       "      <td>Male</td>\n",
       "      <td>Yes</td>\n",
       "      <td>2</td>\n",
       "      <td>Graduate</td>\n",
       "      <td>No</td>\n",
       "      <td>7583</td>\n",
       "      <td>0.0</td>\n",
       "      <td>187.0</td>\n",
       "      <td>360.0</td>\n",
       "      <td>1.0</td>\n",
       "      <td>Urban</td>\n",
       "      <td>Y</td>\n",
       "    </tr>\n",
       "    <tr>\n",
       "      <th>613</th>\n",
       "      <td>LP002990</td>\n",
       "      <td>Female</td>\n",
       "      <td>No</td>\n",
       "      <td>0</td>\n",
       "      <td>Graduate</td>\n",
       "      <td>Yes</td>\n",
       "      <td>4583</td>\n",
       "      <td>0.0</td>\n",
       "      <td>133.0</td>\n",
       "      <td>360.0</td>\n",
       "      <td>0.0</td>\n",
       "      <td>Semiurban</td>\n",
       "      <td>N</td>\n",
       "    </tr>\n",
       "  </tbody>\n",
       "</table>\n",
       "<p>614 rows × 13 columns</p>\n",
       "</div>"
      ],
      "text/plain": [
       "      Loan_ID  Gender Married Dependents     Education Self_Employed   \n",
       "0    LP001002    Male      No          0      Graduate            No  \\\n",
       "1    LP001003    Male     Yes          1      Graduate            No   \n",
       "2    LP001005    Male     Yes          0      Graduate           Yes   \n",
       "3    LP001006    Male     Yes          0  Not Graduate            No   \n",
       "4    LP001008    Male      No          0      Graduate            No   \n",
       "..        ...     ...     ...        ...           ...           ...   \n",
       "609  LP002978  Female      No          0      Graduate            No   \n",
       "610  LP002979    Male     Yes         3+      Graduate            No   \n",
       "611  LP002983    Male     Yes          1      Graduate            No   \n",
       "612  LP002984    Male     Yes          2      Graduate            No   \n",
       "613  LP002990  Female      No          0      Graduate           Yes   \n",
       "\n",
       "     ApplicantIncome  CoapplicantIncome  LoanAmount  Loan_Amount_Term   \n",
       "0               5849                0.0         NaN             360.0  \\\n",
       "1               4583             1508.0       128.0             360.0   \n",
       "2               3000                0.0        66.0             360.0   \n",
       "3               2583             2358.0       120.0             360.0   \n",
       "4               6000                0.0       141.0             360.0   \n",
       "..               ...                ...         ...               ...   \n",
       "609             2900                0.0        71.0             360.0   \n",
       "610             4106                0.0        40.0             180.0   \n",
       "611             8072              240.0       253.0             360.0   \n",
       "612             7583                0.0       187.0             360.0   \n",
       "613             4583                0.0       133.0             360.0   \n",
       "\n",
       "     Credit_History Property_Area Loan_Status  \n",
       "0               1.0         Urban           Y  \n",
       "1               1.0         Rural           N  \n",
       "2               1.0         Urban           Y  \n",
       "3               1.0         Urban           Y  \n",
       "4               1.0         Urban           Y  \n",
       "..              ...           ...         ...  \n",
       "609             1.0         Rural           Y  \n",
       "610             1.0         Rural           Y  \n",
       "611             1.0         Urban           Y  \n",
       "612             1.0         Urban           Y  \n",
       "613             0.0     Semiurban           N  \n",
       "\n",
       "[614 rows x 13 columns]"
      ]
     },
     "execution_count": 2,
     "metadata": {},
     "output_type": "execute_result"
    }
   ],
   "source": [
    "df = pd.read_csv('/Users/macbookpro2019/Library/CloudStorage/GoogleDrive-dzulkarnainan@gmail.com/My Drive/Hacktiv8/ML/Phase 1/ML_2/Loan Predication.csv')\n",
    "df"
   ]
  },
  {
   "cell_type": "markdown",
   "metadata": {},
   "source": [
    "**INTEPRETASI TIAP KOLOM**\n",
    "\n",
    "1. Loan_ID: ID unik untuk setiap pinjaman.\n",
    "\n",
    "2. Gender: Jenis kelamin peminjam, dengan nilai-nilai adalah 'Male', 'Female', dan 'Other'.\n",
    "\n",
    "3. Married: Status perkawinan peminjam, dengan nilai-nilai adalah 'Yes' (Sudah Menikah) dan 'No' (Belum Menikah).\n",
    "\n",
    "4. Dependents: Jumlah tanggungan peminjam.\n",
    "\n",
    "5. Education: Tingkat pendidikan peminjam, dengan nilai-nilai yang mungkin adalah 'Graduate' (Sudah Lulus) dan 'Not Graduate' (Belum \n",
    "Lulus).\n",
    "\n",
    "6. Self_Employed: Status peminjam sebagai pekerja mandiri, dengan nilai-nilai yang mungkin adalah 'Yes' (Ya) dan 'No' (Tidak).\n",
    "\n",
    "7. ApplicantIncome: Pendapatan peminjam.\n",
    "\n",
    "8. CoapplicantIncome: Pendapatan pendamping peminjam.\n",
    "\n",
    "9. LoanAmount: Jumlah pinjaman yang diminta oleh peminjam.\n",
    "\n",
    "10. Loan_Amount_Term: Jangka waktu pinjaman dalam bulan.\n",
    "\n",
    "11. Credit_History: Riwayat kredit peminjam, dengan nilai-nilai adalah 0 (Tidak Ada Riwayat Kredit) dan 1 (Ada Riwayat Kredit).\n",
    "\n",
    "12. Property_Area: Lokasi properti peminjam, dengan nilai-nilai yang mungkin adalah 'Semiurban' (Setengah Perkotaan), 'Urban' (Perkotaan), dan 'Rural' (Pedesaan).\n",
    "\n",
    "13. Loan_Status: Status pinjaman, dengan nilai-nilai yang mungkin adalah 'Y' (Disetujui) dan 'N' (Tidak Disetujui).\n"
   ]
  },
  {
   "cell_type": "code",
   "execution_count": 3,
   "metadata": {},
   "outputs": [
    {
     "data": {
      "text/plain": [
       "Loan_Status\n",
       "Y    422\n",
       "N    192\n",
       "Name: count, dtype: int64"
      ]
     },
     "execution_count": 3,
     "metadata": {},
     "output_type": "execute_result"
    }
   ],
   "source": [
    "#mencari persebaran data target\n",
    "df['Loan_Status'].value_counts()"
   ]
  },
  {
   "cell_type": "markdown",
   "metadata": {},
   "source": [
    "**Dari hasil diatas dapat dikatakan bahwa data ini *imbalance***"
   ]
  },
  {
   "cell_type": "code",
   "execution_count": 4,
   "metadata": {},
   "outputs": [
    {
     "name": "stdout",
     "output_type": "stream",
     "text": [
      "<class 'pandas.core.frame.DataFrame'>\n",
      "RangeIndex: 614 entries, 0 to 613\n",
      "Data columns (total 13 columns):\n",
      " #   Column             Non-Null Count  Dtype  \n",
      "---  ------             --------------  -----  \n",
      " 0   Loan_ID            614 non-null    object \n",
      " 1   Gender             601 non-null    object \n",
      " 2   Married            611 non-null    object \n",
      " 3   Dependents         599 non-null    object \n",
      " 4   Education          614 non-null    object \n",
      " 5   Self_Employed      582 non-null    object \n",
      " 6   ApplicantIncome    614 non-null    int64  \n",
      " 7   CoapplicantIncome  614 non-null    float64\n",
      " 8   LoanAmount         592 non-null    float64\n",
      " 9   Loan_Amount_Term   600 non-null    float64\n",
      " 10  Credit_History     564 non-null    float64\n",
      " 11  Property_Area      614 non-null    object \n",
      " 12  Loan_Status        614 non-null    object \n",
      "dtypes: float64(4), int64(1), object(8)\n",
      "memory usage: 62.5+ KB\n"
     ]
    }
   ],
   "source": [
    "#mencari informasi tiap kolom\n",
    "df.info()"
   ]
  },
  {
   "cell_type": "code",
   "execution_count": 5,
   "metadata": {},
   "outputs": [
    {
     "data": {
      "text/html": [
       "<div>\n",
       "<style scoped>\n",
       "    .dataframe tbody tr th:only-of-type {\n",
       "        vertical-align: middle;\n",
       "    }\n",
       "\n",
       "    .dataframe tbody tr th {\n",
       "        vertical-align: top;\n",
       "    }\n",
       "\n",
       "    .dataframe thead th {\n",
       "        text-align: right;\n",
       "    }\n",
       "</style>\n",
       "<table border=\"1\" class=\"dataframe\">\n",
       "  <thead>\n",
       "    <tr style=\"text-align: right;\">\n",
       "      <th></th>\n",
       "      <th>ApplicantIncome</th>\n",
       "      <th>CoapplicantIncome</th>\n",
       "      <th>LoanAmount</th>\n",
       "      <th>Loan_Amount_Term</th>\n",
       "      <th>Credit_History</th>\n",
       "    </tr>\n",
       "  </thead>\n",
       "  <tbody>\n",
       "    <tr>\n",
       "      <th>count</th>\n",
       "      <td>614.000000</td>\n",
       "      <td>614.000000</td>\n",
       "      <td>592.000000</td>\n",
       "      <td>600.00000</td>\n",
       "      <td>564.000000</td>\n",
       "    </tr>\n",
       "    <tr>\n",
       "      <th>mean</th>\n",
       "      <td>5403.459283</td>\n",
       "      <td>1621.245798</td>\n",
       "      <td>146.412162</td>\n",
       "      <td>342.00000</td>\n",
       "      <td>0.842199</td>\n",
       "    </tr>\n",
       "    <tr>\n",
       "      <th>std</th>\n",
       "      <td>6109.041673</td>\n",
       "      <td>2926.248369</td>\n",
       "      <td>85.587325</td>\n",
       "      <td>65.12041</td>\n",
       "      <td>0.364878</td>\n",
       "    </tr>\n",
       "    <tr>\n",
       "      <th>min</th>\n",
       "      <td>150.000000</td>\n",
       "      <td>0.000000</td>\n",
       "      <td>9.000000</td>\n",
       "      <td>12.00000</td>\n",
       "      <td>0.000000</td>\n",
       "    </tr>\n",
       "    <tr>\n",
       "      <th>25%</th>\n",
       "      <td>2877.500000</td>\n",
       "      <td>0.000000</td>\n",
       "      <td>100.000000</td>\n",
       "      <td>360.00000</td>\n",
       "      <td>1.000000</td>\n",
       "    </tr>\n",
       "    <tr>\n",
       "      <th>50%</th>\n",
       "      <td>3812.500000</td>\n",
       "      <td>1188.500000</td>\n",
       "      <td>128.000000</td>\n",
       "      <td>360.00000</td>\n",
       "      <td>1.000000</td>\n",
       "    </tr>\n",
       "    <tr>\n",
       "      <th>75%</th>\n",
       "      <td>5795.000000</td>\n",
       "      <td>2297.250000</td>\n",
       "      <td>168.000000</td>\n",
       "      <td>360.00000</td>\n",
       "      <td>1.000000</td>\n",
       "    </tr>\n",
       "    <tr>\n",
       "      <th>max</th>\n",
       "      <td>81000.000000</td>\n",
       "      <td>41667.000000</td>\n",
       "      <td>700.000000</td>\n",
       "      <td>480.00000</td>\n",
       "      <td>1.000000</td>\n",
       "    </tr>\n",
       "  </tbody>\n",
       "</table>\n",
       "</div>"
      ],
      "text/plain": [
       "       ApplicantIncome  CoapplicantIncome  LoanAmount  Loan_Amount_Term   \n",
       "count       614.000000         614.000000  592.000000         600.00000  \\\n",
       "mean       5403.459283        1621.245798  146.412162         342.00000   \n",
       "std        6109.041673        2926.248369   85.587325          65.12041   \n",
       "min         150.000000           0.000000    9.000000          12.00000   \n",
       "25%        2877.500000           0.000000  100.000000         360.00000   \n",
       "50%        3812.500000        1188.500000  128.000000         360.00000   \n",
       "75%        5795.000000        2297.250000  168.000000         360.00000   \n",
       "max       81000.000000       41667.000000  700.000000         480.00000   \n",
       "\n",
       "       Credit_History  \n",
       "count      564.000000  \n",
       "mean         0.842199  \n",
       "std          0.364878  \n",
       "min          0.000000  \n",
       "25%          1.000000  \n",
       "50%          1.000000  \n",
       "75%          1.000000  \n",
       "max          1.000000  "
      ]
     },
     "execution_count": 5,
     "metadata": {},
     "output_type": "execute_result"
    }
   ],
   "source": [
    "df.describe()"
   ]
  },
  {
   "cell_type": "markdown",
   "metadata": {},
   "source": [
    "# **EXPLORATORARY DATA ANALYSIS (EDA)**"
   ]
  },
  {
   "cell_type": "markdown",
   "metadata": {},
   "source": [
    "## 1. Sebaran Gender Calon Nasabah"
   ]
  },
  {
   "cell_type": "code",
   "execution_count": 6,
   "metadata": {},
   "outputs": [
    {
     "data": {
      "image/png": "[encoded data removed]",
      "text/plain": [
       "<Figure size 1000x600 with 2 Axes>"
      ]
     },
     "metadata": {},
     "output_type": "display_data"
    }
   ],
   "source": [
    "#labeling\n",
    "labeling_eda_1 = {'Y': 'Accept', 'N': 'Reject'}\n",
    "\n",
    "df['Loan_Status'] = df['Loan_Status'].map(labeling_eda_1)\n",
    "\n",
    "#count male\n",
    "eda_male_loan_status = df[df['Gender'] == 'Male']['Loan_Status'].value_counts()\n",
    "\n",
    "#count female\n",
    "eda_female_loan_status = df[df['Gender'] == 'Female']['Loan_Status'].value_counts()\n",
    "\n",
    "plt.figure(figsize=(10, 6))\n",
    "\n",
    "#subplot #1\n",
    "plt.subplot(1, 2, 1)\n",
    "plt.pie(eda_male_loan_status, labels=eda_male_loan_status.index, autopct='%1.1f%%')\n",
    "plt.title('Loan Status - Male')\n",
    "\n",
    "#subplot #2\n",
    "plt.subplot(1, 2, 2)\n",
    "plt.pie(eda_female_loan_status, labels=eda_female_loan_status.index, autopct='%1.1f%%')\n",
    "plt.title('Loan Status - Female')\n",
    "\n",
    "plt.show()\n"
   ]
  },
  {
   "cell_type": "markdown",
   "metadata": {},
   "source": [
    "Berdasarkan visualisasi diatas, dpaat dilihat bahwa baik laki-laki maupun perempuan memiliki tingkat diterima dan di tolak pengajuan kredit yang sama. Hipotesis sementara peneliti, dimana gender tidak berpengaruh terhadap diterima atau ditolaknya pengajuan kredit"
   ]
  },
  {
   "cell_type": "markdown",
   "metadata": {},
   "source": [
    "## 2. Jumlah Tanggungan Calon Nasabah dengan Status Pengajuan Kredit"
   ]
  },
  {
   "cell_type": "code",
   "execution_count": 7,
   "metadata": {},
   "outputs": [
    {
     "data": {
      "image/png": "[encoded data removed]",
      "text/plain": [
       "<Figure size 1000x600 with 1 Axes>"
      ]
     },
     "metadata": {},
     "output_type": "display_data"
    }
   ],
   "source": [
    "plt.figure(figsize=(10, 6))\n",
    "\n",
    "#countplot dan labeling\n",
    "ax = sns.countplot(x='Dependents', hue='Loan_Status', data=df)\n",
    "ax.set_ylabel('Jumlah Calon Nasabah'),\n",
    "ax.set_xlabel('Jumlah Tanggungan Calon Nasabah')\n",
    "\n",
    "plt.show()\n"
   ]
  },
  {
   "cell_type": "markdown",
   "metadata": {},
   "source": [
    "Dari visualisasi diatas, dapat dilihat bahwa calon nasabah yang tidak memiliki tanggungan memiliki tingkat diterima pada pengajuan kredit yang sangat tinggi dibanding yang telah memiliki tanggungan"
   ]
  },
  {
   "cell_type": "markdown",
   "metadata": {},
   "source": [
    "## 3. Jumlah Pinjaman dengan Pendapatan Calon Nasabah"
   ]
  },
  {
   "cell_type": "code",
   "execution_count": 8,
   "metadata": {},
   "outputs": [
    {
     "data": {
      "image/png": "[encoded data removed]",
      "text/plain": [
       "<Figure size 640x480 with 1 Axes>"
      ]
     },
     "metadata": {},
     "output_type": "display_data"
    }
   ],
   "source": [
    "#pembuatan visualisasi\n",
    "sns.scatterplot(x='ApplicantIncome', y='LoanAmount', data=df, hue='Loan_Status')\n",
    "\n",
    "#labeling sumbu\n",
    "plt.xlabel('Pendapatan Calon Nasabah')\n",
    "plt.ylabel('Jumlah Pinjaman yang Diajukan')\n",
    "\n",
    "plt.legend()\n",
    "plt.show()\n"
   ]
  },
  {
   "cell_type": "markdown",
   "metadata": {},
   "source": [
    "Berdasarkan visualisasi diatas, dapat dikatakan tingkat pendapatan seorang calon nasabah sejalan dengan jumlah pinjaman yang diajukan juga."
   ]
  },
  {
   "cell_type": "markdown",
   "metadata": {},
   "source": [
    "# **DATA PREPROCESSING**\n"
   ]
  },
  {
   "cell_type": "markdown",
   "metadata": {},
   "source": [
    "## **1. DATA FOR MODEL INFERENCE**"
   ]
  },
  {
   "cell_type": "code",
   "execution_count": 9,
   "metadata": {},
   "outputs": [
    {
     "data": {
      "text/html": [
       "<div>\n",
       "<style scoped>\n",
       "    .dataframe tbody tr th:only-of-type {\n",
       "        vertical-align: middle;\n",
       "    }\n",
       "\n",
       "    .dataframe tbody tr th {\n",
       "        vertical-align: top;\n",
       "    }\n",
       "\n",
       "    .dataframe thead th {\n",
       "        text-align: right;\n",
       "    }\n",
       "</style>\n",
       "<table border=\"1\" class=\"dataframe\">\n",
       "  <thead>\n",
       "    <tr style=\"text-align: right;\">\n",
       "      <th></th>\n",
       "      <th>Loan_ID</th>\n",
       "      <th>Gender</th>\n",
       "      <th>Married</th>\n",
       "      <th>Dependents</th>\n",
       "      <th>Education</th>\n",
       "      <th>Self_Employed</th>\n",
       "      <th>ApplicantIncome</th>\n",
       "      <th>CoapplicantIncome</th>\n",
       "      <th>LoanAmount</th>\n",
       "      <th>Loan_Amount_Term</th>\n",
       "      <th>Credit_History</th>\n",
       "      <th>Property_Area</th>\n",
       "      <th>Loan_Status</th>\n",
       "    </tr>\n",
       "  </thead>\n",
       "  <tbody>\n",
       "    <tr>\n",
       "      <th>285</th>\n",
       "      <td>LP001924</td>\n",
       "      <td>Male</td>\n",
       "      <td>No</td>\n",
       "      <td>0</td>\n",
       "      <td>Graduate</td>\n",
       "      <td>No</td>\n",
       "      <td>3158</td>\n",
       "      <td>3053.0</td>\n",
       "      <td>89.0</td>\n",
       "      <td>360.0</td>\n",
       "      <td>1.0</td>\n",
       "      <td>Rural</td>\n",
       "      <td>Accept</td>\n",
       "    </tr>\n",
       "    <tr>\n",
       "      <th>323</th>\n",
       "      <td>LP002055</td>\n",
       "      <td>Female</td>\n",
       "      <td>No</td>\n",
       "      <td>0</td>\n",
       "      <td>Graduate</td>\n",
       "      <td>No</td>\n",
       "      <td>3166</td>\n",
       "      <td>2985.0</td>\n",
       "      <td>132.0</td>\n",
       "      <td>360.0</td>\n",
       "      <td>NaN</td>\n",
       "      <td>Rural</td>\n",
       "      <td>Accept</td>\n",
       "    </tr>\n",
       "    <tr>\n",
       "      <th>482</th>\n",
       "      <td>LP002537</td>\n",
       "      <td>Male</td>\n",
       "      <td>Yes</td>\n",
       "      <td>0</td>\n",
       "      <td>Graduate</td>\n",
       "      <td>No</td>\n",
       "      <td>2083</td>\n",
       "      <td>3150.0</td>\n",
       "      <td>128.0</td>\n",
       "      <td>360.0</td>\n",
       "      <td>1.0</td>\n",
       "      <td>Semiurban</td>\n",
       "      <td>Accept</td>\n",
       "    </tr>\n",
       "    <tr>\n",
       "      <th>173</th>\n",
       "      <td>LP001594</td>\n",
       "      <td>Male</td>\n",
       "      <td>Yes</td>\n",
       "      <td>0</td>\n",
       "      <td>Graduate</td>\n",
       "      <td>No</td>\n",
       "      <td>5708</td>\n",
       "      <td>5625.0</td>\n",
       "      <td>187.0</td>\n",
       "      <td>360.0</td>\n",
       "      <td>1.0</td>\n",
       "      <td>Semiurban</td>\n",
       "      <td>Accept</td>\n",
       "    </tr>\n",
       "    <tr>\n",
       "      <th>518</th>\n",
       "      <td>LP002683</td>\n",
       "      <td>Male</td>\n",
       "      <td>No</td>\n",
       "      <td>0</td>\n",
       "      <td>Graduate</td>\n",
       "      <td>No</td>\n",
       "      <td>4683</td>\n",
       "      <td>1915.0</td>\n",
       "      <td>185.0</td>\n",
       "      <td>360.0</td>\n",
       "      <td>1.0</td>\n",
       "      <td>Semiurban</td>\n",
       "      <td>Reject</td>\n",
       "    </tr>\n",
       "    <tr>\n",
       "      <th>193</th>\n",
       "      <td>LP001658</td>\n",
       "      <td>Male</td>\n",
       "      <td>No</td>\n",
       "      <td>0</td>\n",
       "      <td>Graduate</td>\n",
       "      <td>No</td>\n",
       "      <td>3858</td>\n",
       "      <td>0.0</td>\n",
       "      <td>76.0</td>\n",
       "      <td>360.0</td>\n",
       "      <td>1.0</td>\n",
       "      <td>Semiurban</td>\n",
       "      <td>Accept</td>\n",
       "    </tr>\n",
       "    <tr>\n",
       "      <th>211</th>\n",
       "      <td>LP001711</td>\n",
       "      <td>Male</td>\n",
       "      <td>Yes</td>\n",
       "      <td>3+</td>\n",
       "      <td>Graduate</td>\n",
       "      <td>No</td>\n",
       "      <td>3430</td>\n",
       "      <td>1250.0</td>\n",
       "      <td>128.0</td>\n",
       "      <td>360.0</td>\n",
       "      <td>0.0</td>\n",
       "      <td>Semiurban</td>\n",
       "      <td>Reject</td>\n",
       "    </tr>\n",
       "    <tr>\n",
       "      <th>97</th>\n",
       "      <td>LP001333</td>\n",
       "      <td>Male</td>\n",
       "      <td>Yes</td>\n",
       "      <td>0</td>\n",
       "      <td>Graduate</td>\n",
       "      <td>No</td>\n",
       "      <td>1977</td>\n",
       "      <td>997.0</td>\n",
       "      <td>50.0</td>\n",
       "      <td>360.0</td>\n",
       "      <td>1.0</td>\n",
       "      <td>Semiurban</td>\n",
       "      <td>Accept</td>\n",
       "    </tr>\n",
       "    <tr>\n",
       "      <th>140</th>\n",
       "      <td>LP001497</td>\n",
       "      <td>Male</td>\n",
       "      <td>Yes</td>\n",
       "      <td>2</td>\n",
       "      <td>Graduate</td>\n",
       "      <td>No</td>\n",
       "      <td>5042</td>\n",
       "      <td>2083.0</td>\n",
       "      <td>185.0</td>\n",
       "      <td>360.0</td>\n",
       "      <td>1.0</td>\n",
       "      <td>Rural</td>\n",
       "      <td>Reject</td>\n",
       "    </tr>\n",
       "    <tr>\n",
       "      <th>566</th>\n",
       "      <td>LP002836</td>\n",
       "      <td>Male</td>\n",
       "      <td>No</td>\n",
       "      <td>0</td>\n",
       "      <td>Graduate</td>\n",
       "      <td>No</td>\n",
       "      <td>3333</td>\n",
       "      <td>0.0</td>\n",
       "      <td>70.0</td>\n",
       "      <td>360.0</td>\n",
       "      <td>1.0</td>\n",
       "      <td>Urban</td>\n",
       "      <td>Accept</td>\n",
       "    </tr>\n",
       "  </tbody>\n",
       "</table>\n",
       "</div>"
      ],
      "text/plain": [
       "      Loan_ID  Gender Married Dependents Education Self_Employed   \n",
       "285  LP001924    Male      No          0  Graduate            No  \\\n",
       "323  LP002055  Female      No          0  Graduate            No   \n",
       "482  LP002537    Male     Yes          0  Graduate            No   \n",
       "173  LP001594    Male     Yes          0  Graduate            No   \n",
       "518  LP002683    Male      No          0  Graduate            No   \n",
       "193  LP001658    Male      No          0  Graduate            No   \n",
       "211  LP001711    Male     Yes         3+  Graduate            No   \n",
       "97   LP001333    Male     Yes          0  Graduate            No   \n",
       "140  LP001497    Male     Yes          2  Graduate            No   \n",
       "566  LP002836    Male      No          0  Graduate            No   \n",
       "\n",
       "     ApplicantIncome  CoapplicantIncome  LoanAmount  Loan_Amount_Term   \n",
       "285             3158             3053.0        89.0             360.0  \\\n",
       "323             3166             2985.0       132.0             360.0   \n",
       "482             2083             3150.0       128.0             360.0   \n",
       "173             5708             5625.0       187.0             360.0   \n",
       "518             4683             1915.0       185.0             360.0   \n",
       "193             3858                0.0        76.0             360.0   \n",
       "211             3430             1250.0       128.0             360.0   \n",
       "97              1977              997.0        50.0             360.0   \n",
       "140             5042             2083.0       185.0             360.0   \n",
       "566             3333                0.0        70.0             360.0   \n",
       "\n",
       "     Credit_History Property_Area Loan_Status  \n",
       "285             1.0         Rural      Accept  \n",
       "323             NaN         Rural      Accept  \n",
       "482             1.0     Semiurban      Accept  \n",
       "173             1.0     Semiurban      Accept  \n",
       "518             1.0     Semiurban      Reject  \n",
       "193             1.0     Semiurban      Accept  \n",
       "211             0.0     Semiurban      Reject  \n",
       "97              1.0     Semiurban      Accept  \n",
       "140             1.0         Rural      Reject  \n",
       "566             1.0         Urban      Accept  "
      ]
     },
     "execution_count": 9,
     "metadata": {},
     "output_type": "execute_result"
    }
   ],
   "source": [
    "#mengambil data inference\n",
    "df_inference = df.sample(10, random_state=10) \n",
    "df_inference"
   ]
  },
  {
   "cell_type": "code",
   "execution_count": 10,
   "metadata": {},
   "outputs": [],
   "source": [
    "#dropping data inference dari dataset raw\n",
    "df_train_test = df.drop(df_inference.index)"
   ]
  },
  {
   "cell_type": "code",
   "execution_count": 11,
   "metadata": {},
   "outputs": [],
   "source": [
    "#reset index\n",
    "df_train_test.reset_index(drop=True, inplace=True)\n",
    "df_inference.reset_index(drop=True, inplace=True)"
   ]
  },
  {
   "cell_type": "code",
   "execution_count": 12,
   "metadata": {},
   "outputs": [],
   "source": [
    "df_inference.to_csv('df_inference_P1M2')"
   ]
  },
  {
   "cell_type": "markdown",
   "metadata": {},
   "source": [
    "## **2. DATA CLEANING**"
   ]
  },
  {
   "cell_type": "markdown",
   "metadata": {},
   "source": [
    "### a. Data Duplikat"
   ]
  },
  {
   "cell_type": "markdown",
   "metadata": {},
   "source": [
    "CEK DATA DUPLIKAT"
   ]
  },
  {
   "cell_type": "code",
   "execution_count": 13,
   "metadata": {},
   "outputs": [
    {
     "data": {
      "text/plain": [
       "(0, 13)"
      ]
     },
     "execution_count": 13,
     "metadata": {},
     "output_type": "execute_result"
    }
   ],
   "source": [
    "#pengecekkan data duplikat pada dataframe\n",
    "df_train_test[df_train_test.duplicated()].shape"
   ]
  },
  {
   "cell_type": "markdown",
   "metadata": {},
   "source": [
    "**Tidak terdapat data duplikat**"
   ]
  },
  {
   "cell_type": "markdown",
   "metadata": {},
   "source": [
    "### b. Missing Values"
   ]
  },
  {
   "cell_type": "markdown",
   "metadata": {},
   "source": [
    "CEK MV"
   ]
  },
  {
   "cell_type": "code",
   "execution_count": 14,
   "metadata": {},
   "outputs": [
    {
     "name": "stdout",
     "output_type": "stream",
     "text": [
      "['Gender', 'Married', 'Dependents', 'Self_Employed', 'LoanAmount', 'Loan_Amount_Term', 'Credit_History']\n"
     ]
    }
   ],
   "source": [
    "#pengecekkan kolom-kolom yang memiliki missing value\n",
    "kolom_missing = df_train_test.columns[df_train_test.isna().any()].tolist()\n",
    "\n",
    "print(kolom_missing)"
   ]
  },
  {
   "cell_type": "code",
   "execution_count": 15,
   "metadata": {},
   "outputs": [
    {
     "name": "stdout",
     "output_type": "stream",
     "text": [
      "Loan_ID               0\n",
      "Gender               13\n",
      "Married               3\n",
      "Dependents           15\n",
      "Education             0\n",
      "Self_Employed        32\n",
      "ApplicantIncome       0\n",
      "CoapplicantIncome     0\n",
      "LoanAmount           22\n",
      "Loan_Amount_Term     14\n",
      "Credit_History       49\n",
      "Property_Area         0\n",
      "Loan_Status           0\n",
      "dtype: int64\n"
     ]
    }
   ],
   "source": [
    "#hitung jumlah kolom-kolom yang memiliki missing value\n",
    "missing_values = df_train_test.isnull().sum()\n",
    "\n",
    "print(missing_values)"
   ]
  },
  {
   "cell_type": "markdown",
   "metadata": {},
   "source": [
    "Berdasarkan hasil pengecekkan diatas, peneliti akan melakukan dropping row pada value yang terindikiasi MV. Akan tetapi untuk kolom 'LoanAmount' peneliti akan melakukan handling dengan mengisi MV dengan nilai rata-rata. Karena berdasarkan pemikirna pemeliti, hanya kolom tersebut yang dapat di handling."
   ]
  },
  {
   "cell_type": "markdown",
   "metadata": {},
   "source": [
    "## **3. FEATURE SELECTION**"
   ]
  },
  {
   "cell_type": "code",
   "execution_count": 16,
   "metadata": {},
   "outputs": [
    {
     "name": "stdout",
     "output_type": "stream",
     "text": [
      "interval columns not set, guessing: ['ApplicantIncome', 'CoapplicantIncome', 'LoanAmount', 'Loan_Amount_Term', 'Credit_History']\n"
     ]
    },
    {
     "data": {
      "image/png": "[encoded data removed]",
      "text/plain": [
       "<Figure size 1000x800 with 2 Axes>"
      ]
     },
     "metadata": {},
     "output_type": "display_data"
    }
   ],
   "source": [
    "correlation_matrix = df.phik_matrix()\n",
    "\n",
    "plt.figure(figsize=(10, 8))\n",
    "sns.heatmap(correlation_matrix, annot=True, cmap='coolwarm')\n",
    "plt.title('Phi-K Correlation Heatmap')\n",
    "plt.show()\n"
   ]
  },
  {
   "cell_type": "code",
   "execution_count": 17,
   "metadata": {},
   "outputs": [
    {
     "name": "stdout",
     "output_type": "stream",
     "text": [
      "interval columns not set, guessing: ['ApplicantIncome', 'CoapplicantIncome', 'LoanAmount', 'Loan_Amount_Term', 'Credit_History']\n",
      "                   Loan_ID    Gender   Married  Dependents  Education   \n",
      "Loan_ID                1.0  1.000000  1.000000    1.000000   1.000000  \\\n",
      "Gender                 1.0  1.000000  0.539952    0.251276   0.026393   \n",
      "Married                1.0  0.539952  1.000000    0.533745   0.000000   \n",
      "Dependents             1.0  0.251276  0.533745    1.000000   0.000000   \n",
      "Education              1.0  0.026393  0.000000    0.000000   1.000000   \n",
      "Self_Employed          1.0  0.000000  0.000000    0.112814   0.000000   \n",
      "ApplicantIncome        1.0  0.000000  0.000000    0.131121   0.150838   \n",
      "CoapplicantIncome      1.0  0.170974  0.068364    0.072556   0.113159   \n",
      "LoanAmount             1.0  0.177720  0.227035    0.230588   0.210847   \n",
      "Loan_Amount_Term       1.0  0.000000  0.144591    0.112723   0.042845   \n",
      "Credit_History         1.0  0.000000  0.000000    0.000000   0.099116   \n",
      "Property_Area          1.0  0.060489  0.000000    0.031900   0.031652   \n",
      "Loan_Status            1.0  0.000000  0.118280    0.024625   0.111321   \n",
      "\n",
      "                   Self_Employed  ApplicantIncome  CoapplicantIncome   \n",
      "Loan_ID                 1.000000         1.000000           1.000000  \\\n",
      "Gender                  0.000000         0.000000           0.170974   \n",
      "Married                 0.000000         0.000000           0.068364   \n",
      "Dependents              0.112814         0.131121           0.072556   \n",
      "Education               0.000000         0.150838           0.113159   \n",
      "Self_Employed           1.000000         0.260525           0.006602   \n",
      "ApplicantIncome         0.260525         1.000000           0.000000   \n",
      "CoapplicantIncome       0.006602         0.000000           1.000000   \n",
      "LoanAmount              0.179587         0.718549           0.382014   \n",
      "Loan_Amount_Term        0.000000         0.159773           0.000000   \n",
      "Credit_History          0.000000         0.064541           0.062926   \n",
      "Property_Area           0.000000         0.066873           0.156185   \n",
      "Loan_Status             0.000000         0.000000           0.073062   \n",
      "\n",
      "                   LoanAmount  Loan_Amount_Term  Credit_History   \n",
      "Loan_ID              1.000000          1.000000        1.000000  \\\n",
      "Gender               0.177720          0.000000        0.000000   \n",
      "Married              0.227035          0.144591        0.000000   \n",
      "Dependents           0.230588          0.112723        0.000000   \n",
      "Education            0.210847          0.042845        0.099116   \n",
      "Self_Employed        0.179587          0.000000        0.000000   \n",
      "ApplicantIncome      0.718549          0.159773        0.064541   \n",
      "CoapplicantIncome    0.382014          0.000000        0.062926   \n",
      "LoanAmount           1.000000          0.166483        0.000000   \n",
      "Loan_Amount_Term     0.166483          1.000000        0.073917   \n",
      "Credit_History       0.000000          0.073917        1.000000   \n",
      "Property_Area        0.187929          0.089790        0.000000   \n",
      "Loan_Status          0.000000          0.102464        0.765840   \n",
      "\n",
      "                   Property_Area  Loan_Status  \n",
      "Loan_ID                 1.000000     1.000000  \n",
      "Gender                  0.060489     0.000000  \n",
      "Married                 0.000000     0.118280  \n",
      "Dependents              0.031900     0.024625  \n",
      "Education               0.031652     0.111321  \n",
      "Self_Employed           0.000000     0.000000  \n",
      "ApplicantIncome         0.066873     0.000000  \n",
      "CoapplicantIncome       0.156185     0.073062  \n",
      "LoanAmount              0.187929     0.000000  \n",
      "Loan_Amount_Term        0.089790     0.102464  \n",
      "Credit_History          0.000000     0.765840  \n",
      "Property_Area           1.000000     0.078247  \n",
      "Loan_Status             0.078247     1.000000  \n"
     ]
    }
   ],
   "source": [
    "correlation_matrix = df.phik_matrix()\n",
    "print(correlation_matrix)\n"
   ]
  },
  {
   "cell_type": "markdown",
   "metadata": {},
   "source": [
    "Berdasarkan visualisasi diatas peneliti menetapkan batas minimal fitur yang akan digunakan adalah yang memiliki nilai diatas 0.1 maka dari itu berikut fitur yang diambil berdasarkan nilai uji korelasi phik diatas :\n",
    "\n",
    "1. Married\n",
    "2. Education\n",
    "3. Loan_Amount_Term\n",
    "4. Credit_History\n",
    "\n",
    "Akan tetapi mempertimbangkan business knowledge terkait kredit dalam dunia perbankan dimana beberapa fitur juga penting untuk dipertimbangkan, peneliti akan tetap menggunakan beberap fitur dibawah meski berdasarkan nilai memang kecil :\n",
    "\n",
    "5. ApplicantIncome\n",
    "6. CoapplicantIncome\n",
    "7. LoanAmount"
   ]
  },
  {
   "cell_type": "markdown",
   "metadata": {},
   "source": [
    "## **4. DATA SPLIT**"
   ]
  },
  {
   "cell_type": "code",
   "execution_count": 17,
   "metadata": {},
   "outputs": [],
   "source": [
    "df_train_test[\"Loan_Status\"].replace({'N': 0, 'Y': 1}, inplace=True)"
   ]
  },
  {
   "cell_type": "code",
   "execution_count": 18,
   "metadata": {},
   "outputs": [],
   "source": [
    "df_train_test.to_csv('df_train_test.csv', index=False)"
   ]
  },
  {
   "cell_type": "code",
   "execution_count": 19,
   "metadata": {},
   "outputs": [],
   "source": [
    "#menentukan kolom untuk target dan fitur\n",
    "X = df_train_test.drop(['Loan_Status', 'Loan_ID', 'Gender', 'Self_Employed', 'Loan_Amount_Term', 'Property_Area'], axis=1)\n",
    "y = df_train_test['Loan_Status']"
   ]
  },
  {
   "cell_type": "code",
   "execution_count": 20,
   "metadata": {},
   "outputs": [],
   "source": [
    "#splitting data train dan test\n",
    "X_train, X_test, y_train, y_test = train_test_split(X, y, test_size=0.3, random_state=10)"
   ]
  },
  {
   "cell_type": "code",
   "execution_count": 21,
   "metadata": {},
   "outputs": [
    {
     "data": {
      "text/html": [
       "<div>\n",
       "<style scoped>\n",
       "    .dataframe tbody tr th:only-of-type {\n",
       "        vertical-align: middle;\n",
       "    }\n",
       "\n",
       "    .dataframe tbody tr th {\n",
       "        vertical-align: top;\n",
       "    }\n",
       "\n",
       "    .dataframe thead th {\n",
       "        text-align: right;\n",
       "    }\n",
       "</style>\n",
       "<table border=\"1\" class=\"dataframe\">\n",
       "  <thead>\n",
       "    <tr style=\"text-align: right;\">\n",
       "      <th></th>\n",
       "      <th>Married</th>\n",
       "      <th>Dependents</th>\n",
       "      <th>Education</th>\n",
       "      <th>ApplicantIncome</th>\n",
       "      <th>CoapplicantIncome</th>\n",
       "      <th>LoanAmount</th>\n",
       "      <th>Credit_History</th>\n",
       "    </tr>\n",
       "  </thead>\n",
       "  <tbody>\n",
       "    <tr>\n",
       "      <th>146</th>\n",
       "      <td>No</td>\n",
       "      <td>0</td>\n",
       "      <td>Graduate</td>\n",
       "      <td>10000</td>\n",
       "      <td>1666.0</td>\n",
       "      <td>225.0</td>\n",
       "      <td>1.0</td>\n",
       "    </tr>\n",
       "    <tr>\n",
       "      <th>510</th>\n",
       "      <td>No</td>\n",
       "      <td>0</td>\n",
       "      <td>Not Graduate</td>\n",
       "      <td>3400</td>\n",
       "      <td>0.0</td>\n",
       "      <td>95.0</td>\n",
       "      <td>1.0</td>\n",
       "    </tr>\n",
       "    <tr>\n",
       "      <th>343</th>\n",
       "      <td>Yes</td>\n",
       "      <td>0</td>\n",
       "      <td>Graduate</td>\n",
       "      <td>9083</td>\n",
       "      <td>0.0</td>\n",
       "      <td>228.0</td>\n",
       "      <td>1.0</td>\n",
       "    </tr>\n",
       "    <tr>\n",
       "      <th>274</th>\n",
       "      <td>Yes</td>\n",
       "      <td>0</td>\n",
       "      <td>Not Graduate</td>\n",
       "      <td>4100</td>\n",
       "      <td>0.0</td>\n",
       "      <td>124.0</td>\n",
       "      <td>NaN</td>\n",
       "    </tr>\n",
       "    <tr>\n",
       "      <th>370</th>\n",
       "      <td>Yes</td>\n",
       "      <td>0</td>\n",
       "      <td>Graduate</td>\n",
       "      <td>4310</td>\n",
       "      <td>0.0</td>\n",
       "      <td>130.0</td>\n",
       "      <td>NaN</td>\n",
       "    </tr>\n",
       "    <tr>\n",
       "      <th>...</th>\n",
       "      <td>...</td>\n",
       "      <td>...</td>\n",
       "      <td>...</td>\n",
       "      <td>...</td>\n",
       "      <td>...</td>\n",
       "      <td>...</td>\n",
       "      <td>...</td>\n",
       "    </tr>\n",
       "    <tr>\n",
       "      <th>369</th>\n",
       "      <td>Yes</td>\n",
       "      <td>3+</td>\n",
       "      <td>Graduate</td>\n",
       "      <td>8750</td>\n",
       "      <td>4996.0</td>\n",
       "      <td>130.0</td>\n",
       "      <td>1.0</td>\n",
       "    </tr>\n",
       "    <tr>\n",
       "      <th>320</th>\n",
       "      <td>Yes</td>\n",
       "      <td>0</td>\n",
       "      <td>Graduate</td>\n",
       "      <td>5818</td>\n",
       "      <td>2160.0</td>\n",
       "      <td>184.0</td>\n",
       "      <td>1.0</td>\n",
       "    </tr>\n",
       "    <tr>\n",
       "      <th>527</th>\n",
       "      <td>Yes</td>\n",
       "      <td>0</td>\n",
       "      <td>Graduate</td>\n",
       "      <td>6133</td>\n",
       "      <td>3906.0</td>\n",
       "      <td>324.0</td>\n",
       "      <td>1.0</td>\n",
       "    </tr>\n",
       "    <tr>\n",
       "      <th>125</th>\n",
       "      <td>Yes</td>\n",
       "      <td>3+</td>\n",
       "      <td>Graduate</td>\n",
       "      <td>23803</td>\n",
       "      <td>0.0</td>\n",
       "      <td>370.0</td>\n",
       "      <td>1.0</td>\n",
       "    </tr>\n",
       "    <tr>\n",
       "      <th>265</th>\n",
       "      <td>No</td>\n",
       "      <td>0</td>\n",
       "      <td>Graduate</td>\n",
       "      <td>3237</td>\n",
       "      <td>0.0</td>\n",
       "      <td>30.0</td>\n",
       "      <td>1.0</td>\n",
       "    </tr>\n",
       "  </tbody>\n",
       "</table>\n",
       "<p>422 rows × 7 columns</p>\n",
       "</div>"
      ],
      "text/plain": [
       "    Married Dependents     Education  ApplicantIncome  CoapplicantIncome   \n",
       "146      No          0      Graduate            10000             1666.0  \\\n",
       "510      No          0  Not Graduate             3400                0.0   \n",
       "343     Yes          0      Graduate             9083                0.0   \n",
       "274     Yes          0  Not Graduate             4100                0.0   \n",
       "370     Yes          0      Graduate             4310                0.0   \n",
       "..      ...        ...           ...              ...                ...   \n",
       "369     Yes         3+      Graduate             8750             4996.0   \n",
       "320     Yes          0      Graduate             5818             2160.0   \n",
       "527     Yes          0      Graduate             6133             3906.0   \n",
       "125     Yes         3+      Graduate            23803                0.0   \n",
       "265      No          0      Graduate             3237                0.0   \n",
       "\n",
       "     LoanAmount  Credit_History  \n",
       "146       225.0             1.0  \n",
       "510        95.0             1.0  \n",
       "343       228.0             1.0  \n",
       "274       124.0             NaN  \n",
       "370       130.0             NaN  \n",
       "..          ...             ...  \n",
       "369       130.0             1.0  \n",
       "320       184.0             1.0  \n",
       "527       324.0             1.0  \n",
       "125       370.0             1.0  \n",
       "265        30.0             1.0  \n",
       "\n",
       "[422 rows x 7 columns]"
      ]
     },
     "execution_count": 21,
     "metadata": {},
     "output_type": "execute_result"
    }
   ],
   "source": [
    "X_train"
   ]
  },
  {
   "cell_type": "code",
   "execution_count": 22,
   "metadata": {},
   "outputs": [
    {
     "name": "stdout",
     "output_type": "stream",
     "text": [
      "ApplicantIncome      6.391148\n",
      "CoapplicantIncome    7.519621\n",
      "LoanAmount           2.655689\n",
      "dtype: float64\n"
     ]
    }
   ],
   "source": [
    "#cek outlier\n",
    "handling_mv = ['ApplicantIncome', 'CoapplicantIncome', 'LoanAmount']\n",
    "skewness = X_train[handling_mv].skew()\n",
    "print(skewness)"
   ]
  },
  {
   "cell_type": "markdown",
   "metadata": {},
   "source": [
    "Berdasarkan hasil diatas, kolom numerikal semuanya terindikasi tidak terdistribusi normal, oleh karena itu pada pipeline peneliti akan handling dengan teknik IQR"
   ]
  },
  {
   "cell_type": "markdown",
   "metadata": {},
   "source": [
    "## **5. PENGOLAHAN KOLOM NUMERIKAL DAN KATEGORIKAL**"
   ]
  },
  {
   "cell_type": "code",
   "execution_count": 24,
   "metadata": {},
   "outputs": [],
   "source": [
    "from imblearn.pipeline import Pipeline as imbpipe\n",
    "from imblearn.over_sampling import SMOTENC\n",
    "\n",
    "#define kolom numerik dan kategorik\n",
    "fitur_numerik = ['ApplicantIncome', 'CoapplicantIncome', 'LoanAmount']\n",
    "fitur_kategorik = ['Married', 'Dependents', 'Education', 'Credit_History']\n",
    "\n",
    "num_cols = Pipeline([\n",
    "    ('impute MV', SimpleImputer(strategy='mean')),\n",
    "    ('scaler', StandardScaler()),\n",
    "    ('outlier', Winsorizer(capping_method='iqr', tail='both', fold=1.5))\n",
    "])\n",
    "\n",
    "cat_cols = Pipeline([\n",
    "    ('impute MV', SimpleImputer(strategy='most_frequent')),\n",
    "    ('ordinalencoder', OrdinalEncoder())\n",
    "])\n",
    "\n",
    "#pipeline sepenuhnya\n",
    "full_pipeline = ColumnTransformer(\n",
    "    transformers=[\n",
    "        (\"numerik\", num_cols, fitur_numerik),\n",
    "        (\"kategorik\", cat_cols, fitur_kategorik)\n",
    "    ]\n",
    ")\n"
   ]
  },
  {
   "cell_type": "code",
   "execution_count": 25,
   "metadata": {},
   "outputs": [
    {
     "data": {
      "text/plain": [
       "array([ 1., nan,  0.])"
      ]
     },
     "execution_count": 25,
     "metadata": {},
     "output_type": "execute_result"
    }
   ],
   "source": [
    "X_train.Credit_History.unique()"
   ]
  },
  {
   "cell_type": "markdown",
   "metadata": {},
   "source": [
    "# **MODEL DEFINITON**"
   ]
  },
  {
   "cell_type": "markdown",
   "metadata": {},
   "source": [
    "## **1. LOGISTIC REGRESSION**"
   ]
  },
  {
   "cell_type": "code",
   "execution_count": 27,
   "metadata": {},
   "outputs": [],
   "source": [
    "#fungsi pipeline logreg\n",
    "logreg_pipeline = imbpipe([\n",
    "    ('preprocess', full_pipeline),\n",
    "    ('over_sampl', SMOTENC([3, 4, 5, 6], sampling_strategy=0.9, random_state=42)),\n",
    "    ('logreg', LogisticRegression(random_state=0))\n",
    "])"
   ]
  },
  {
   "cell_type": "code",
   "execution_count": 29,
   "metadata": {},
   "outputs": [
    {
     "name": "stdout",
     "output_type": "stream",
     "text": [
      "Cross Validation array           : [0.8        0.81176471 0.69047619 0.76190476 0.77380952]\n",
      "Best Cross Validation score      : 0.7675910364145657\n",
      "Standar Deviasi Cross Validation : 0.042472006692203225\n"
     ]
    }
   ],
   "source": [
    "kf = KFold(n_splits=5)\n",
    "scores_logreg = cross_val_score(logreg_pipeline, X_train, y_train, cv=kf)\n",
    "print(\"Cross Validation array           :\", scores_logreg)\n",
    "print(\"Best Cross Validation score      :\", scores_logreg.mean())\n",
    "print(\"Standar Deviasi Cross Validation :\",scores_logreg.std())\n"
   ]
  },
  {
   "cell_type": "markdown",
   "metadata": {},
   "source": [
    "## **2. SVM**"
   ]
  },
  {
   "cell_type": "code",
   "execution_count": 30,
   "metadata": {},
   "outputs": [],
   "source": [
    "#fungsi pipeline SVM\n",
    "pipe_svm = imbpipe([\n",
    "    ('preprocess', full_pipeline),\n",
    "    ('over_sampl', SMOTENC([3, 4, 5, 6], sampling_strategy=0.9, random_state=42)),\n",
    "    ('svm', SVC(random_state=0))\n",
    "])\n"
   ]
  },
  {
   "cell_type": "code",
   "execution_count": 31,
   "metadata": {},
   "outputs": [
    {
     "name": "stdout",
     "output_type": "stream",
     "text": [
      "Cross Validation array           : [0.74117647 0.82352941 0.71428571 0.72619048 0.72619048]\n",
      "Best Cross Validation score      : 0.7462745098039216\n",
      "Standar Deviasi Cross Validation : 0.03955838654923315\n"
     ]
    }
   ],
   "source": [
    "#cross-val SVC\n",
    "kf=KFold(n_splits=5)\n",
    "scoressvm = cross_val_score(pipe_svm, X_train, y_train, cv=kf)\n",
    "print(\"Cross Validation array           :\",scoressvm)\n",
    "print(\"Best Cross Validation score      :\",scoressvm.mean())\n",
    "print(\"Standar Deviasi Cross Validation :\",scoressvm.std())"
   ]
  },
  {
   "cell_type": "markdown",
   "metadata": {},
   "source": [
    "## **3. DESCISION TREE**"
   ]
  },
  {
   "cell_type": "code",
   "execution_count": 32,
   "metadata": {},
   "outputs": [],
   "source": [
    "#fungsi pipeline descision tree\n",
    "pipe_dtc = imbpipe([\n",
    "    ('preprocess', full_pipeline),\n",
    "    ('over_sampl', SMOTENC([3, 4, 5, 6], sampling_strategy=0.9, random_state=42)),\n",
    "    ('decision_tree', DecisionTreeClassifier(random_state=0))\n",
    "])"
   ]
  },
  {
   "cell_type": "code",
   "execution_count": 33,
   "metadata": {},
   "outputs": [
    {
     "name": "stdout",
     "output_type": "stream",
     "text": [
      "Cross Validation array           : [0.65882353 0.67058824 0.67857143 0.61904762 0.63095238]\n",
      "Best Cross Validation score      : 0.6515966386554621\n",
      "Standar Deviasi Cross Validation : 0.02291799309469495\n"
     ]
    }
   ],
   "source": [
    "#cross-val decision tree\n",
    "kf=KFold(n_splits=5)\n",
    "scoresDT = cross_val_score(pipe_dtc, X_train, y_train, cv=kf)\n",
    "print(\"Cross Validation array           :\",scoresDT)\n",
    "print(\"Best Cross Validation score      :\",scoresDT.mean())\n",
    "print(\"Standar Deviasi Cross Validation :\",scoresDT.std())"
   ]
  },
  {
   "cell_type": "markdown",
   "metadata": {},
   "source": [
    "## **4. RANDOM FORREST**"
   ]
  },
  {
   "cell_type": "code",
   "execution_count": 34,
   "metadata": {},
   "outputs": [],
   "source": [
    "#fungsi random forrest\n",
    "pipe_rfc = imbpipe([\n",
    "    ('preprocess', full_pipeline),\n",
    "    ('over_sampl', SMOTENC([3, 4, 5, 6], sampling_strategy=0.9, random_state=42)),\n",
    "    ('random_forest', RandomForestClassifier(random_state=0))\n",
    "])\n"
   ]
  },
  {
   "cell_type": "code",
   "execution_count": 35,
   "metadata": {},
   "outputs": [
    {
     "name": "stdout",
     "output_type": "stream",
     "text": [
      "Cross Validation array           : [0.71764706 0.77647059 0.72619048 0.70238095 0.6547619 ]\n",
      "Best Cross Validation score      : 0.7154901960784315\n",
      "Standar Deviasi Cross Validation : 0.0392365490723305\n"
     ]
    }
   ],
   "source": [
    "#cross-val random forest\n",
    "kf=KFold(n_splits=5)\n",
    "scoresRF = cross_val_score(pipe_rfc, X_train, y_train, cv=kf)\n",
    "print(\"Cross Validation array           :\",scoresRF)\n",
    "print(\"Best Cross Validation score      :\",scoresRF.mean())\n",
    "print(\"Standar Deviasi Cross Validation :\",scoresRF.std())"
   ]
  },
  {
   "cell_type": "markdown",
   "metadata": {},
   "source": [
    "## **5. KNN**"
   ]
  },
  {
   "cell_type": "code",
   "execution_count": 36,
   "metadata": {},
   "outputs": [],
   "source": [
    "#fungsi KNN\n",
    "pipe_knn = imbpipe([\n",
    "    ('preprocess', full_pipeline),\n",
    "    ('over_sampl', SMOTENC([3, 4, 5, 6], sampling_strategy=0.9, random_state=42)),\n",
    "    ('knn', KNeighborsClassifier())\n",
    "])"
   ]
  },
  {
   "cell_type": "code",
   "execution_count": 37,
   "metadata": {},
   "outputs": [
    {
     "name": "stdout",
     "output_type": "stream",
     "text": [
      "Cross Validation array           : [0.71764706 0.75294118 0.73809524 0.72619048 0.64285714]\n",
      "Best Cross Validation score      : 0.715546218487395\n",
      "Standar Deviasi Cross Validation : 0.038231548846437605\n"
     ]
    }
   ],
   "source": [
    "#cross-val KNN\n",
    "kf=KFold(n_splits=5)\n",
    "scoresKNN = cross_val_score(pipe_knn, X_train, y_train, cv=kf)\n",
    "print(\"Cross Validation array           :\",scoresKNN)\n",
    "print(\"Best Cross Validation score      :\",scoresKNN.mean())\n",
    "print(\"Standar Deviasi Cross Validation :\",scoresKNN.std())"
   ]
  },
  {
   "cell_type": "markdown",
   "metadata": {},
   "source": [
    "## **6. NAIVE BAYES**"
   ]
  },
  {
   "cell_type": "code",
   "execution_count": 38,
   "metadata": {},
   "outputs": [],
   "source": [
    "#fungsi Naive Bayes\n",
    "pipe_nb = imbpipe([\n",
    "    ('preprocess', full_pipeline),\n",
    "    ('over_sampl', SMOTENC([3, 4, 5, 6], sampling_strategy=0.9, random_state=42)),\n",
    "    ('naive_bayes', GaussianNB())\n",
    "])"
   ]
  },
  {
   "cell_type": "code",
   "execution_count": 39,
   "metadata": {},
   "outputs": [
    {
     "name": "stdout",
     "output_type": "stream",
     "text": [
      "Cross Validation array           : [0.78823529 0.85882353 0.83333333 0.76190476 0.79761905]\n",
      "Best Cross Validation score      : 0.8079831932773109\n",
      "Standar Deviasi Cross Validation : 0.03419937500401099\n"
     ]
    }
   ],
   "source": [
    "#cross-val Naive Bayes\n",
    "kf=KFold(n_splits=5)\n",
    "scoresNB = cross_val_score(pipe_nb, X_train, y_train, cv=kf)\n",
    "print(\"Cross Validation array           :\",scoresNB)\n",
    "print(\"Best Cross Validation score      :\",scoresNB.mean())\n",
    "print(\"Standar Deviasi Cross Validation :\",scoresNB.std())"
   ]
  },
  {
   "cell_type": "markdown",
   "metadata": {},
   "source": [
    "## **7. ADABOOST**"
   ]
  },
  {
   "cell_type": "code",
   "execution_count": 40,
   "metadata": {},
   "outputs": [],
   "source": [
    "pipe_adaboost = imbpipe([\n",
    "    ('preprocess', full_pipeline),\n",
    "    ('over_sampl', SMOTENC([3, 4, 5, 6], sampling_strategy=0.9, random_state=42)),\n",
    "    ('adaboost', AdaBoostClassifier(random_state=0))\n",
    "])"
   ]
  },
  {
   "cell_type": "code",
   "execution_count": 41,
   "metadata": {},
   "outputs": [
    {
     "name": "stdout",
     "output_type": "stream",
     "text": [
      "Cross Validation array           : [0.69411765 0.85882353 0.71428571 0.75       0.73809524]\n",
      "Best Cross Validation score      : 0.7510644257703081\n",
      "Standar Deviasi Cross Validation : 0.05723105183877655\n"
     ]
    }
   ],
   "source": [
    "#cross-val AdaBoosting\n",
    "kf=KFold(n_splits=5)\n",
    "scoresAdaBC = cross_val_score(pipe_adaboost, X_train, y_train, cv=kf)\n",
    "print(\"Cross Validation array           :\",scoresAdaBC)\n",
    "print(\"Best Cross Validation score      :\",scoresAdaBC.mean())\n",
    "print(\"Standar Deviasi Cross Validation :\",scoresAdaBC.std())"
   ]
  },
  {
   "cell_type": "markdown",
   "metadata": {},
   "source": [
    "Berdasarkan hasil cross-val diatas, didapatkan bahwa model terbaik adalah NAIVES BAYES"
   ]
  },
  {
   "cell_type": "markdown",
   "metadata": {},
   "source": [
    "# **MODEL TRAINING & EVALUATION**"
   ]
  },
  {
   "cell_type": "markdown",
   "metadata": {},
   "source": [
    "## **NAIVE BAYES**"
   ]
  },
  {
   "cell_type": "markdown",
   "metadata": {},
   "source": [
    "TANPA ESTIMATOR"
   ]
  },
  {
   "cell_type": "code",
   "execution_count": 42,
   "metadata": {},
   "outputs": [
    {
     "data": {
      "text/html": [
       "<style>#sk-container-id-1 {color: black;background-color: white;}#sk-container-id-1 pre{padding: 0;}#sk-container-id-1 div.sk-toggleable {background-color: white;}#sk-container-id-1 label.sk-toggleable__label {cursor: pointer;display: block;width: 100%;margin-bottom: 0;padding: 0.3em;box-sizing: border-box;text-align: center;}#sk-container-id-1 label.sk-toggleable__label-arrow:before {content: \"▸\";float: left;margin-right: 0.25em;color: #696969;}#sk-container-id-1 label.sk-toggleable__label-arrow:hover:before {color: black;}#sk-container-id-1 div.sk-estimator:hover label.sk-toggleable__label-arrow:before {color: black;}#sk-container-id-1 div.sk-toggleable__content {max-height: 0;max-width: 0;overflow: hidden;text-align: left;background-color: #f0f8ff;}#sk-container-id-1 div.sk-toggleable__content pre {margin: 0.2em;color: black;border-radius: 0.25em;background-color: #f0f8ff;}#sk-container-id-1 input.sk-toggleable__control:checked~div.sk-toggleable__content {max-height: 200px;max-width: 100%;overflow: auto;}#sk-container-id-1 input.sk-toggleable__control:checked~label.sk-toggleable__label-arrow:before {content: \"▾\";}#sk-container-id-1 div.sk-estimator input.sk-toggleable__control:checked~label.sk-toggleable__label {background-color: #d4ebff;}#sk-container-id-1 div.sk-label input.sk-toggleable__control:checked~label.sk-toggleable__label {background-color: #d4ebff;}#sk-container-id-1 input.sk-hidden--visually {border: 0;clip: rect(1px 1px 1px 1px);clip: rect(1px, 1px, 1px, 1px);height: 1px;margin: -1px;overflow: hidden;padding: 0;position: absolute;width: 1px;}#sk-container-id-1 div.sk-estimator {font-family: monospace;background-color: #f0f8ff;border: 1px dotted black;border-radius: 0.25em;box-sizing: border-box;margin-bottom: 0.5em;}#sk-container-id-1 div.sk-estimator:hover {background-color: #d4ebff;}#sk-container-id-1 div.sk-parallel-item::after {content: \"\";width: 100%;border-bottom: 1px solid gray;flex-grow: 1;}#sk-container-id-1 div.sk-label:hover label.sk-toggleable__label {background-color: #d4ebff;}#sk-container-id-1 div.sk-serial::before {content: \"\";position: absolute;border-left: 1px solid gray;box-sizing: border-box;top: 0;bottom: 0;left: 50%;z-index: 0;}#sk-container-id-1 div.sk-serial {display: flex;flex-direction: column;align-items: center;background-color: white;padding-right: 0.2em;padding-left: 0.2em;position: relative;}#sk-container-id-1 div.sk-item {position: relative;z-index: 1;}#sk-container-id-1 div.sk-parallel {display: flex;align-items: stretch;justify-content: center;background-color: white;position: relative;}#sk-container-id-1 div.sk-item::before, #sk-container-id-1 div.sk-parallel-item::before {content: \"\";position: absolute;border-left: 1px solid gray;box-sizing: border-box;top: 0;bottom: 0;left: 50%;z-index: -1;}#sk-container-id-1 div.sk-parallel-item {display: flex;flex-direction: column;z-index: 1;position: relative;background-color: white;}#sk-container-id-1 div.sk-parallel-item:first-child::after {align-self: flex-end;width: 50%;}#sk-container-id-1 div.sk-parallel-item:last-child::after {align-self: flex-start;width: 50%;}#sk-container-id-1 div.sk-parallel-item:only-child::after {width: 0;}#sk-container-id-1 div.sk-dashed-wrapped {border: 1px dashed gray;margin: 0 0.4em 0.5em 0.4em;box-sizing: border-box;padding-bottom: 0.4em;background-color: white;}#sk-container-id-1 div.sk-label label {font-family: monospace;font-weight: bold;display: inline-block;line-height: 1.2em;}#sk-container-id-1 div.sk-label-container {text-align: center;}#sk-container-id-1 div.sk-container {/* jupyter's `normalize.less` sets `[hidden] { display: none; }` but bootstrap.min.css set `[hidden] { display: none !important; }` so we also need the `!important` here to be able to override the default hidden behavior on the sphinx rendered scikit-learn.org. See: https://github.com/scikit-learn/scikit-learn/issues/21755 */display: inline-block !important;position: relative;}#sk-container-id-1 div.sk-text-repr-fallback {display: none;}</style><div id=\"sk-container-id-1\" class=\"sk-top-container\"><div class=\"sk-text-repr-fallback\"><pre>Pipeline(steps=[(&#x27;preprocess&#x27;,\n",
       "                 ColumnTransformer(transformers=[(&#x27;numerik&#x27;,\n",
       "                                                  Pipeline(steps=[(&#x27;impute MV&#x27;,\n",
       "                                                                   SimpleImputer()),\n",
       "                                                                  (&#x27;scaler&#x27;,\n",
       "                                                                   StandardScaler()),\n",
       "                                                                  (&#x27;outlier&#x27;,\n",
       "                                                                   Winsorizer(capping_method=&#x27;iqr&#x27;,\n",
       "                                                                              fold=1.5,\n",
       "                                                                              tail=&#x27;both&#x27;))]),\n",
       "                                                  [&#x27;ApplicantIncome&#x27;,\n",
       "                                                   &#x27;CoapplicantIncome&#x27;,\n",
       "                                                   &#x27;LoanAmount&#x27;]),\n",
       "                                                 (&#x27;kategorik&#x27;,\n",
       "                                                  Pipeline(steps=[(&#x27;impute MV&#x27;,\n",
       "                                                                   SimpleImputer(strategy=&#x27;most_frequent&#x27;)),\n",
       "                                                                  (&#x27;ordinalencoder&#x27;,\n",
       "                                                                   OrdinalEncoder())]),\n",
       "                                                  [&#x27;Married&#x27;, &#x27;Dependents&#x27;,\n",
       "                                                   &#x27;Education&#x27;,\n",
       "                                                   &#x27;Credit_History&#x27;])])),\n",
       "                (&#x27;over_sampl&#x27;,\n",
       "                 SMOTENC(categorical_features=[3, 4, 5, 6], random_state=42,\n",
       "                         sampling_strategy=0.9)),\n",
       "                (&#x27;naive_bayes&#x27;, GaussianNB())])</pre><b>In a Jupyter environment, please rerun this cell to show the HTML representation or trust the notebook. <br />On GitHub, the HTML representation is unable to render, please try loading this page with nbviewer.org.</b></div><div class=\"sk-container\" hidden><div class=\"sk-item sk-dashed-wrapped\"><div class=\"sk-label-container\"><div class=\"sk-label sk-toggleable\"><input class=\"sk-toggleable__control sk-hidden--visually\" id=\"sk-estimator-id-1\" type=\"checkbox\" ><label for=\"sk-estimator-id-1\" class=\"sk-toggleable__label sk-toggleable__label-arrow\">Pipeline</label><div class=\"sk-toggleable__content\"><pre>Pipeline(steps=[(&#x27;preprocess&#x27;,\n",
       "                 ColumnTransformer(transformers=[(&#x27;numerik&#x27;,\n",
       "                                                  Pipeline(steps=[(&#x27;impute MV&#x27;,\n",
       "                                                                   SimpleImputer()),\n",
       "                                                                  (&#x27;scaler&#x27;,\n",
       "                                                                   StandardScaler()),\n",
       "                                                                  (&#x27;outlier&#x27;,\n",
       "                                                                   Winsorizer(capping_method=&#x27;iqr&#x27;,\n",
       "                                                                              fold=1.5,\n",
       "                                                                              tail=&#x27;both&#x27;))]),\n",
       "                                                  [&#x27;ApplicantIncome&#x27;,\n",
       "                                                   &#x27;CoapplicantIncome&#x27;,\n",
       "                                                   &#x27;LoanAmount&#x27;]),\n",
       "                                                 (&#x27;kategorik&#x27;,\n",
       "                                                  Pipeline(steps=[(&#x27;impute MV&#x27;,\n",
       "                                                                   SimpleImputer(strategy=&#x27;most_frequent&#x27;)),\n",
       "                                                                  (&#x27;ordinalencoder&#x27;,\n",
       "                                                                   OrdinalEncoder())]),\n",
       "                                                  [&#x27;Married&#x27;, &#x27;Dependents&#x27;,\n",
       "                                                   &#x27;Education&#x27;,\n",
       "                                                   &#x27;Credit_History&#x27;])])),\n",
       "                (&#x27;over_sampl&#x27;,\n",
       "                 SMOTENC(categorical_features=[3, 4, 5, 6], random_state=42,\n",
       "                         sampling_strategy=0.9)),\n",
       "                (&#x27;naive_bayes&#x27;, GaussianNB())])</pre></div></div></div><div class=\"sk-serial\"><div class=\"sk-item sk-dashed-wrapped\"><div class=\"sk-label-container\"><div class=\"sk-label sk-toggleable\"><input class=\"sk-toggleable__control sk-hidden--visually\" id=\"sk-estimator-id-2\" type=\"checkbox\" ><label for=\"sk-estimator-id-2\" class=\"sk-toggleable__label sk-toggleable__label-arrow\">preprocess: ColumnTransformer</label><div class=\"sk-toggleable__content\"><pre>ColumnTransformer(transformers=[(&#x27;numerik&#x27;,\n",
       "                                 Pipeline(steps=[(&#x27;impute MV&#x27;, SimpleImputer()),\n",
       "                                                 (&#x27;scaler&#x27;, StandardScaler()),\n",
       "                                                 (&#x27;outlier&#x27;,\n",
       "                                                  Winsorizer(capping_method=&#x27;iqr&#x27;,\n",
       "                                                             fold=1.5,\n",
       "                                                             tail=&#x27;both&#x27;))]),\n",
       "                                 [&#x27;ApplicantIncome&#x27;, &#x27;CoapplicantIncome&#x27;,\n",
       "                                  &#x27;LoanAmount&#x27;]),\n",
       "                                (&#x27;kategorik&#x27;,\n",
       "                                 Pipeline(steps=[(&#x27;impute MV&#x27;,\n",
       "                                                  SimpleImputer(strategy=&#x27;most_frequent&#x27;)),\n",
       "                                                 (&#x27;ordinalencoder&#x27;,\n",
       "                                                  OrdinalEncoder())]),\n",
       "                                 [&#x27;Married&#x27;, &#x27;Dependents&#x27;, &#x27;Education&#x27;,\n",
       "                                  &#x27;Credit_History&#x27;])])</pre></div></div></div><div class=\"sk-parallel\"><div class=\"sk-parallel-item\"><div class=\"sk-item\"><div class=\"sk-label-container\"><div class=\"sk-label sk-toggleable\"><input class=\"sk-toggleable__control sk-hidden--visually\" id=\"sk-estimator-id-3\" type=\"checkbox\" ><label for=\"sk-estimator-id-3\" class=\"sk-toggleable__label sk-toggleable__label-arrow\">numerik</label><div class=\"sk-toggleable__content\"><pre>[&#x27;ApplicantIncome&#x27;, &#x27;CoapplicantIncome&#x27;, &#x27;LoanAmount&#x27;]</pre></div></div></div><div class=\"sk-serial\"><div class=\"sk-item\"><div class=\"sk-serial\"><div class=\"sk-item\"><div class=\"sk-estimator sk-toggleable\"><input class=\"sk-toggleable__control sk-hidden--visually\" id=\"sk-estimator-id-4\" type=\"checkbox\" ><label for=\"sk-estimator-id-4\" class=\"sk-toggleable__label sk-toggleable__label-arrow\">SimpleImputer</label><div class=\"sk-toggleable__content\"><pre>SimpleImputer()</pre></div></div></div><div class=\"sk-item\"><div class=\"sk-estimator sk-toggleable\"><input class=\"sk-toggleable__control sk-hidden--visually\" id=\"sk-estimator-id-5\" type=\"checkbox\" ><label for=\"sk-estimator-id-5\" class=\"sk-toggleable__label sk-toggleable__label-arrow\">StandardScaler</label><div class=\"sk-toggleable__content\"><pre>StandardScaler()</pre></div></div></div><div class=\"sk-item\"><div class=\"sk-estimator sk-toggleable\"><input class=\"sk-toggleable__control sk-hidden--visually\" id=\"sk-estimator-id-6\" type=\"checkbox\" ><label for=\"sk-estimator-id-6\" class=\"sk-toggleable__label sk-toggleable__label-arrow\">Winsorizer</label><div class=\"sk-toggleable__content\"><pre>Winsorizer(capping_method=&#x27;iqr&#x27;, fold=1.5, tail=&#x27;both&#x27;)</pre></div></div></div></div></div></div></div></div><div class=\"sk-parallel-item\"><div class=\"sk-item\"><div class=\"sk-label-container\"><div class=\"sk-label sk-toggleable\"><input class=\"sk-toggleable__control sk-hidden--visually\" id=\"sk-estimator-id-7\" type=\"checkbox\" ><label for=\"sk-estimator-id-7\" class=\"sk-toggleable__label sk-toggleable__label-arrow\">kategorik</label><div class=\"sk-toggleable__content\"><pre>[&#x27;Married&#x27;, &#x27;Dependents&#x27;, &#x27;Education&#x27;, &#x27;Credit_History&#x27;]</pre></div></div></div><div class=\"sk-serial\"><div class=\"sk-item\"><div class=\"sk-serial\"><div class=\"sk-item\"><div class=\"sk-estimator sk-toggleable\"><input class=\"sk-toggleable__control sk-hidden--visually\" id=\"sk-estimator-id-8\" type=\"checkbox\" ><label for=\"sk-estimator-id-8\" class=\"sk-toggleable__label sk-toggleable__label-arrow\">SimpleImputer</label><div class=\"sk-toggleable__content\"><pre>SimpleImputer(strategy=&#x27;most_frequent&#x27;)</pre></div></div></div><div class=\"sk-item\"><div class=\"sk-estimator sk-toggleable\"><input class=\"sk-toggleable__control sk-hidden--visually\" id=\"sk-estimator-id-9\" type=\"checkbox\" ><label for=\"sk-estimator-id-9\" class=\"sk-toggleable__label sk-toggleable__label-arrow\">OrdinalEncoder</label><div class=\"sk-toggleable__content\"><pre>OrdinalEncoder()</pre></div></div></div></div></div></div></div></div></div></div><div class=\"sk-item\"><div class=\"sk-estimator sk-toggleable\"><input class=\"sk-toggleable__control sk-hidden--visually\" id=\"sk-estimator-id-10\" type=\"checkbox\" ><label for=\"sk-estimator-id-10\" class=\"sk-toggleable__label sk-toggleable__label-arrow\">SMOTENC</label><div class=\"sk-toggleable__content\"><pre>SMOTENC(categorical_features=[3, 4, 5, 6], random_state=42,\n",
       "        sampling_strategy=0.9)</pre></div></div></div><div class=\"sk-item\"><div class=\"sk-estimator sk-toggleable\"><input class=\"sk-toggleable__control sk-hidden--visually\" id=\"sk-estimator-id-11\" type=\"checkbox\" ><label for=\"sk-estimator-id-11\" class=\"sk-toggleable__label sk-toggleable__label-arrow\">GaussianNB</label><div class=\"sk-toggleable__content\"><pre>GaussianNB()</pre></div></div></div></div></div></div></div>"
      ],
      "text/plain": [
       "Pipeline(steps=[('preprocess',\n",
       "                 ColumnTransformer(transformers=[('numerik',\n",
       "                                                  Pipeline(steps=[('impute MV',\n",
       "                                                                   SimpleImputer()),\n",
       "                                                                  ('scaler',\n",
       "                                                                   StandardScaler()),\n",
       "                                                                  ('outlier',\n",
       "                                                                   Winsorizer(capping_method='iqr',\n",
       "                                                                              fold=1.5,\n",
       "                                                                              tail='both'))]),\n",
       "                                                  ['ApplicantIncome',\n",
       "                                                   'CoapplicantIncome',\n",
       "                                                   'LoanAmount']),\n",
       "                                                 ('kategorik',\n",
       "                                                  Pipeline(steps=[('impute MV',\n",
       "                                                                   SimpleImputer(strategy='most_frequent')),\n",
       "                                                                  ('ordinalencoder',\n",
       "                                                                   OrdinalEncoder())]),\n",
       "                                                  ['Married', 'Dependents',\n",
       "                                                   'Education',\n",
       "                                                   'Credit_History'])])),\n",
       "                ('over_sampl',\n",
       "                 SMOTENC(categorical_features=[3, 4, 5, 6], random_state=42,\n",
       "                         sampling_strategy=0.9)),\n",
       "                ('naive_bayes', GaussianNB())])"
      ]
     },
     "execution_count": 42,
     "metadata": {},
     "output_type": "execute_result"
    }
   ],
   "source": [
    "#model random forrest tanpa estimator\n",
    "model_nb = pipe_nb.fit(X_train,y_train)\n",
    "model_nb"
   ]
  },
  {
   "cell_type": "code",
   "execution_count": 43,
   "metadata": {},
   "outputs": [
    {
     "data": {
      "text/html": [
       "<style>#sk-container-id-2 {color: black;background-color: white;}#sk-container-id-2 pre{padding: 0;}#sk-container-id-2 div.sk-toggleable {background-color: white;}#sk-container-id-2 label.sk-toggleable__label {cursor: pointer;display: block;width: 100%;margin-bottom: 0;padding: 0.3em;box-sizing: border-box;text-align: center;}#sk-container-id-2 label.sk-toggleable__label-arrow:before {content: \"▸\";float: left;margin-right: 0.25em;color: #696969;}#sk-container-id-2 label.sk-toggleable__label-arrow:hover:before {color: black;}#sk-container-id-2 div.sk-estimator:hover label.sk-toggleable__label-arrow:before {color: black;}#sk-container-id-2 div.sk-toggleable__content {max-height: 0;max-width: 0;overflow: hidden;text-align: left;background-color: #f0f8ff;}#sk-container-id-2 div.sk-toggleable__content pre {margin: 0.2em;color: black;border-radius: 0.25em;background-color: #f0f8ff;}#sk-container-id-2 input.sk-toggleable__control:checked~div.sk-toggleable__content {max-height: 200px;max-width: 100%;overflow: auto;}#sk-container-id-2 input.sk-toggleable__control:checked~label.sk-toggleable__label-arrow:before {content: \"▾\";}#sk-container-id-2 div.sk-estimator input.sk-toggleable__control:checked~label.sk-toggleable__label {background-color: #d4ebff;}#sk-container-id-2 div.sk-label input.sk-toggleable__control:checked~label.sk-toggleable__label {background-color: #d4ebff;}#sk-container-id-2 input.sk-hidden--visually {border: 0;clip: rect(1px 1px 1px 1px);clip: rect(1px, 1px, 1px, 1px);height: 1px;margin: -1px;overflow: hidden;padding: 0;position: absolute;width: 1px;}#sk-container-id-2 div.sk-estimator {font-family: monospace;background-color: #f0f8ff;border: 1px dotted black;border-radius: 0.25em;box-sizing: border-box;margin-bottom: 0.5em;}#sk-container-id-2 div.sk-estimator:hover {background-color: #d4ebff;}#sk-container-id-2 div.sk-parallel-item::after {content: \"\";width: 100%;border-bottom: 1px solid gray;flex-grow: 1;}#sk-container-id-2 div.sk-label:hover label.sk-toggleable__label {background-color: #d4ebff;}#sk-container-id-2 div.sk-serial::before {content: \"\";position: absolute;border-left: 1px solid gray;box-sizing: border-box;top: 0;bottom: 0;left: 50%;z-index: 0;}#sk-container-id-2 div.sk-serial {display: flex;flex-direction: column;align-items: center;background-color: white;padding-right: 0.2em;padding-left: 0.2em;position: relative;}#sk-container-id-2 div.sk-item {position: relative;z-index: 1;}#sk-container-id-2 div.sk-parallel {display: flex;align-items: stretch;justify-content: center;background-color: white;position: relative;}#sk-container-id-2 div.sk-item::before, #sk-container-id-2 div.sk-parallel-item::before {content: \"\";position: absolute;border-left: 1px solid gray;box-sizing: border-box;top: 0;bottom: 0;left: 50%;z-index: -1;}#sk-container-id-2 div.sk-parallel-item {display: flex;flex-direction: column;z-index: 1;position: relative;background-color: white;}#sk-container-id-2 div.sk-parallel-item:first-child::after {align-self: flex-end;width: 50%;}#sk-container-id-2 div.sk-parallel-item:last-child::after {align-self: flex-start;width: 50%;}#sk-container-id-2 div.sk-parallel-item:only-child::after {width: 0;}#sk-container-id-2 div.sk-dashed-wrapped {border: 1px dashed gray;margin: 0 0.4em 0.5em 0.4em;box-sizing: border-box;padding-bottom: 0.4em;background-color: white;}#sk-container-id-2 div.sk-label label {font-family: monospace;font-weight: bold;display: inline-block;line-height: 1.2em;}#sk-container-id-2 div.sk-label-container {text-align: center;}#sk-container-id-2 div.sk-container {/* jupyter's `normalize.less` sets `[hidden] { display: none; }` but bootstrap.min.css set `[hidden] { display: none !important; }` so we also need the `!important` here to be able to override the default hidden behavior on the sphinx rendered scikit-learn.org. See: https://github.com/scikit-learn/scikit-learn/issues/21755 */display: inline-block !important;position: relative;}#sk-container-id-2 div.sk-text-repr-fallback {display: none;}</style><div id=\"sk-container-id-2\" class=\"sk-top-container\"><div class=\"sk-text-repr-fallback\"><pre>Pipeline(steps=[(&#x27;preprocess&#x27;,\n",
       "                 ColumnTransformer(transformers=[(&#x27;numerik&#x27;,\n",
       "                                                  Pipeline(steps=[(&#x27;impute MV&#x27;,\n",
       "                                                                   SimpleImputer()),\n",
       "                                                                  (&#x27;scaler&#x27;,\n",
       "                                                                   StandardScaler()),\n",
       "                                                                  (&#x27;outlier&#x27;,\n",
       "                                                                   Winsorizer(capping_method=&#x27;iqr&#x27;,\n",
       "                                                                              fold=1.5,\n",
       "                                                                              tail=&#x27;both&#x27;))]),\n",
       "                                                  [&#x27;ApplicantIncome&#x27;,\n",
       "                                                   &#x27;CoapplicantIncome&#x27;,\n",
       "                                                   &#x27;LoanAmount&#x27;]),\n",
       "                                                 (&#x27;kategorik&#x27;,\n",
       "                                                  Pipeline(steps=[(&#x27;impute MV&#x27;,\n",
       "                                                                   SimpleImputer(strategy=&#x27;most_frequent&#x27;)),\n",
       "                                                                  (&#x27;ordinalencoder&#x27;,\n",
       "                                                                   OrdinalEncoder())]),\n",
       "                                                  [&#x27;Married&#x27;, &#x27;Dependents&#x27;,\n",
       "                                                   &#x27;Education&#x27;,\n",
       "                                                   &#x27;Credit_History&#x27;])])),\n",
       "                (&#x27;over_sampl&#x27;,\n",
       "                 SMOTENC(categorical_features=[3, 4, 5, 6], random_state=42,\n",
       "                         sampling_strategy=0.9)),\n",
       "                (&#x27;naive_bayes&#x27;, GaussianNB())])</pre><b>In a Jupyter environment, please rerun this cell to show the HTML representation or trust the notebook. <br />On GitHub, the HTML representation is unable to render, please try loading this page with nbviewer.org.</b></div><div class=\"sk-container\" hidden><div class=\"sk-item sk-dashed-wrapped\"><div class=\"sk-label-container\"><div class=\"sk-label sk-toggleable\"><input class=\"sk-toggleable__control sk-hidden--visually\" id=\"sk-estimator-id-12\" type=\"checkbox\" ><label for=\"sk-estimator-id-12\" class=\"sk-toggleable__label sk-toggleable__label-arrow\">Pipeline</label><div class=\"sk-toggleable__content\"><pre>Pipeline(steps=[(&#x27;preprocess&#x27;,\n",
       "                 ColumnTransformer(transformers=[(&#x27;numerik&#x27;,\n",
       "                                                  Pipeline(steps=[(&#x27;impute MV&#x27;,\n",
       "                                                                   SimpleImputer()),\n",
       "                                                                  (&#x27;scaler&#x27;,\n",
       "                                                                   StandardScaler()),\n",
       "                                                                  (&#x27;outlier&#x27;,\n",
       "                                                                   Winsorizer(capping_method=&#x27;iqr&#x27;,\n",
       "                                                                              fold=1.5,\n",
       "                                                                              tail=&#x27;both&#x27;))]),\n",
       "                                                  [&#x27;ApplicantIncome&#x27;,\n",
       "                                                   &#x27;CoapplicantIncome&#x27;,\n",
       "                                                   &#x27;LoanAmount&#x27;]),\n",
       "                                                 (&#x27;kategorik&#x27;,\n",
       "                                                  Pipeline(steps=[(&#x27;impute MV&#x27;,\n",
       "                                                                   SimpleImputer(strategy=&#x27;most_frequent&#x27;)),\n",
       "                                                                  (&#x27;ordinalencoder&#x27;,\n",
       "                                                                   OrdinalEncoder())]),\n",
       "                                                  [&#x27;Married&#x27;, &#x27;Dependents&#x27;,\n",
       "                                                   &#x27;Education&#x27;,\n",
       "                                                   &#x27;Credit_History&#x27;])])),\n",
       "                (&#x27;over_sampl&#x27;,\n",
       "                 SMOTENC(categorical_features=[3, 4, 5, 6], random_state=42,\n",
       "                         sampling_strategy=0.9)),\n",
       "                (&#x27;naive_bayes&#x27;, GaussianNB())])</pre></div></div></div><div class=\"sk-serial\"><div class=\"sk-item sk-dashed-wrapped\"><div class=\"sk-label-container\"><div class=\"sk-label sk-toggleable\"><input class=\"sk-toggleable__control sk-hidden--visually\" id=\"sk-estimator-id-13\" type=\"checkbox\" ><label for=\"sk-estimator-id-13\" class=\"sk-toggleable__label sk-toggleable__label-arrow\">preprocess: ColumnTransformer</label><div class=\"sk-toggleable__content\"><pre>ColumnTransformer(transformers=[(&#x27;numerik&#x27;,\n",
       "                                 Pipeline(steps=[(&#x27;impute MV&#x27;, SimpleImputer()),\n",
       "                                                 (&#x27;scaler&#x27;, StandardScaler()),\n",
       "                                                 (&#x27;outlier&#x27;,\n",
       "                                                  Winsorizer(capping_method=&#x27;iqr&#x27;,\n",
       "                                                             fold=1.5,\n",
       "                                                             tail=&#x27;both&#x27;))]),\n",
       "                                 [&#x27;ApplicantIncome&#x27;, &#x27;CoapplicantIncome&#x27;,\n",
       "                                  &#x27;LoanAmount&#x27;]),\n",
       "                                (&#x27;kategorik&#x27;,\n",
       "                                 Pipeline(steps=[(&#x27;impute MV&#x27;,\n",
       "                                                  SimpleImputer(strategy=&#x27;most_frequent&#x27;)),\n",
       "                                                 (&#x27;ordinalencoder&#x27;,\n",
       "                                                  OrdinalEncoder())]),\n",
       "                                 [&#x27;Married&#x27;, &#x27;Dependents&#x27;, &#x27;Education&#x27;,\n",
       "                                  &#x27;Credit_History&#x27;])])</pre></div></div></div><div class=\"sk-parallel\"><div class=\"sk-parallel-item\"><div class=\"sk-item\"><div class=\"sk-label-container\"><div class=\"sk-label sk-toggleable\"><input class=\"sk-toggleable__control sk-hidden--visually\" id=\"sk-estimator-id-14\" type=\"checkbox\" ><label for=\"sk-estimator-id-14\" class=\"sk-toggleable__label sk-toggleable__label-arrow\">numerik</label><div class=\"sk-toggleable__content\"><pre>[&#x27;ApplicantIncome&#x27;, &#x27;CoapplicantIncome&#x27;, &#x27;LoanAmount&#x27;]</pre></div></div></div><div class=\"sk-serial\"><div class=\"sk-item\"><div class=\"sk-serial\"><div class=\"sk-item\"><div class=\"sk-estimator sk-toggleable\"><input class=\"sk-toggleable__control sk-hidden--visually\" id=\"sk-estimator-id-15\" type=\"checkbox\" ><label for=\"sk-estimator-id-15\" class=\"sk-toggleable__label sk-toggleable__label-arrow\">SimpleImputer</label><div class=\"sk-toggleable__content\"><pre>SimpleImputer()</pre></div></div></div><div class=\"sk-item\"><div class=\"sk-estimator sk-toggleable\"><input class=\"sk-toggleable__control sk-hidden--visually\" id=\"sk-estimator-id-16\" type=\"checkbox\" ><label for=\"sk-estimator-id-16\" class=\"sk-toggleable__label sk-toggleable__label-arrow\">StandardScaler</label><div class=\"sk-toggleable__content\"><pre>StandardScaler()</pre></div></div></div><div class=\"sk-item\"><div class=\"sk-estimator sk-toggleable\"><input class=\"sk-toggleable__control sk-hidden--visually\" id=\"sk-estimator-id-17\" type=\"checkbox\" ><label for=\"sk-estimator-id-17\" class=\"sk-toggleable__label sk-toggleable__label-arrow\">Winsorizer</label><div class=\"sk-toggleable__content\"><pre>Winsorizer(capping_method=&#x27;iqr&#x27;, fold=1.5, tail=&#x27;both&#x27;)</pre></div></div></div></div></div></div></div></div><div class=\"sk-parallel-item\"><div class=\"sk-item\"><div class=\"sk-label-container\"><div class=\"sk-label sk-toggleable\"><input class=\"sk-toggleable__control sk-hidden--visually\" id=\"sk-estimator-id-18\" type=\"checkbox\" ><label for=\"sk-estimator-id-18\" class=\"sk-toggleable__label sk-toggleable__label-arrow\">kategorik</label><div class=\"sk-toggleable__content\"><pre>[&#x27;Married&#x27;, &#x27;Dependents&#x27;, &#x27;Education&#x27;, &#x27;Credit_History&#x27;]</pre></div></div></div><div class=\"sk-serial\"><div class=\"sk-item\"><div class=\"sk-serial\"><div class=\"sk-item\"><div class=\"sk-estimator sk-toggleable\"><input class=\"sk-toggleable__control sk-hidden--visually\" id=\"sk-estimator-id-19\" type=\"checkbox\" ><label for=\"sk-estimator-id-19\" class=\"sk-toggleable__label sk-toggleable__label-arrow\">SimpleImputer</label><div class=\"sk-toggleable__content\"><pre>SimpleImputer(strategy=&#x27;most_frequent&#x27;)</pre></div></div></div><div class=\"sk-item\"><div class=\"sk-estimator sk-toggleable\"><input class=\"sk-toggleable__control sk-hidden--visually\" id=\"sk-estimator-id-20\" type=\"checkbox\" ><label for=\"sk-estimator-id-20\" class=\"sk-toggleable__label sk-toggleable__label-arrow\">OrdinalEncoder</label><div class=\"sk-toggleable__content\"><pre>OrdinalEncoder()</pre></div></div></div></div></div></div></div></div></div></div><div class=\"sk-item\"><div class=\"sk-estimator sk-toggleable\"><input class=\"sk-toggleable__control sk-hidden--visually\" id=\"sk-estimator-id-21\" type=\"checkbox\" ><label for=\"sk-estimator-id-21\" class=\"sk-toggleable__label sk-toggleable__label-arrow\">SMOTENC</label><div class=\"sk-toggleable__content\"><pre>SMOTENC(categorical_features=[3, 4, 5, 6], random_state=42,\n",
       "        sampling_strategy=0.9)</pre></div></div></div><div class=\"sk-item\"><div class=\"sk-estimator sk-toggleable\"><input class=\"sk-toggleable__control sk-hidden--visually\" id=\"sk-estimator-id-22\" type=\"checkbox\" ><label for=\"sk-estimator-id-22\" class=\"sk-toggleable__label sk-toggleable__label-arrow\">GaussianNB</label><div class=\"sk-toggleable__content\"><pre>GaussianNB()</pre></div></div></div></div></div></div></div>"
      ],
      "text/plain": [
       "Pipeline(steps=[('preprocess',\n",
       "                 ColumnTransformer(transformers=[('numerik',\n",
       "                                                  Pipeline(steps=[('impute MV',\n",
       "                                                                   SimpleImputer()),\n",
       "                                                                  ('scaler',\n",
       "                                                                   StandardScaler()),\n",
       "                                                                  ('outlier',\n",
       "                                                                   Winsorizer(capping_method='iqr',\n",
       "                                                                              fold=1.5,\n",
       "                                                                              tail='both'))]),\n",
       "                                                  ['ApplicantIncome',\n",
       "                                                   'CoapplicantIncome',\n",
       "                                                   'LoanAmount']),\n",
       "                                                 ('kategorik',\n",
       "                                                  Pipeline(steps=[('impute MV',\n",
       "                                                                   SimpleImputer(strategy='most_frequent')),\n",
       "                                                                  ('ordinalencoder',\n",
       "                                                                   OrdinalEncoder())]),\n",
       "                                                  ['Married', 'Dependents',\n",
       "                                                   'Education',\n",
       "                                                   'Credit_History'])])),\n",
       "                ('over_sampl',\n",
       "                 SMOTENC(categorical_features=[3, 4, 5, 6], random_state=42,\n",
       "                         sampling_strategy=0.9)),\n",
       "                ('naive_bayes', GaussianNB())])"
      ]
     },
     "execution_count": 43,
     "metadata": {},
     "output_type": "execute_result"
    }
   ],
   "source": [
    "#model random forrest tanpa estimator\n",
    "model_nb = pipe_nb.fit(X_train,y_train)\n",
    "model_nb"
   ]
  },
  {
   "cell_type": "code",
   "execution_count": 44,
   "metadata": {},
   "outputs": [
    {
     "name": "stdout",
     "output_type": "stream",
     "text": [
      "Accuracy score train :  0.8080568720379147\n",
      "Accuracy score test :  0.8131868131868132\n"
     ]
    }
   ],
   "source": [
    "#skoring data train & test tanpa\n",
    "y_pred_train_nb = model_nb.predict(X_train)\n",
    "y_pred_test_nb = model_nb.predict(X_test)\n",
    "print('Accuracy score train : ',accuracy_score(y_train,y_pred_train_nb))\n",
    "print('Accuracy score test : ',accuracy_score(y_test,y_pred_test_nb))"
   ]
  },
  {
   "cell_type": "code",
   "execution_count": 45,
   "metadata": {},
   "outputs": [
    {
     "name": "stdout",
     "output_type": "stream",
     "text": [
      "              precision    recall  f1-score   support\n",
      "\n",
      "           0       0.95      0.44      0.60       140\n",
      "           1       0.78      0.99      0.87       282\n",
      "\n",
      "    accuracy                           0.81       422\n",
      "   macro avg       0.87      0.72      0.74       422\n",
      "weighted avg       0.84      0.81      0.78       422\n",
      "\n",
      "              precision    recall  f1-score   support\n",
      "\n",
      "           0       0.83      0.39      0.53        49\n",
      "           1       0.81      0.97      0.88       133\n",
      "\n",
      "    accuracy                           0.81       182\n",
      "   macro avg       0.82      0.68      0.71       182\n",
      "weighted avg       0.82      0.81      0.79       182\n",
      "\n"
     ]
    }
   ],
   "source": [
    "#hasil prediksi tanpa estimator\n",
    "print(classification_report(y_train,y_pred_train_nb))\n",
    "\n",
    "print(classification_report(y_test,y_pred_test_nb))"
   ]
  },
  {
   "cell_type": "markdown",
   "metadata": {},
   "source": [
    "DENGAN HYPERPARAMETER"
   ]
  },
  {
   "cell_type": "code",
   "execution_count": 46,
   "metadata": {},
   "outputs": [],
   "source": [
    "#hyperparameter\n",
    "param_grid = {\n",
    "    'naive_bayes__var_smoothing': [1e-9, 1e-8, 1e-7, 1e-6, 1e-5]\n",
    "}"
   ]
  },
  {
   "cell_type": "code",
   "execution_count": 47,
   "metadata": {},
   "outputs": [
    {
     "name": "stdout",
     "output_type": "stream",
     "text": [
      "Fitting 5 folds for each of 5 candidates, totalling 25 fits\n"
     ]
    },
    {
     "name": "stdout",
     "output_type": "stream",
     "text": [
      "Best hyperparameters: {'naive_bayes__var_smoothing': 1e-09}\n"
     ]
    }
   ],
   "source": [
    "#gridsearch\n",
    "nb_gs = GridSearchCV(estimator=pipe_nb, param_grid=param_grid, cv=5, scoring='accuracy', n_jobs=-1, verbose=1)\n",
    "\n",
    "#hyperparameter\n",
    "nb_gs.fit(X_train, y_train)\n",
    "\n",
    "#estimator terbaik\n",
    "best_nb_model = nb_gs.best_estimator_\n",
    "\n",
    "#best hyperparam\n",
    "best_params = nb_gs.best_params_\n",
    "print(\"Best hyperparameters:\", best_params)"
   ]
  },
  {
   "cell_type": "markdown",
   "metadata": {},
   "source": [
    "Berdasarkan hasil hyperparameter diatas, ditemukan bahwa best param-nya adalah default"
   ]
  },
  {
   "cell_type": "code",
   "execution_count": 48,
   "metadata": {},
   "outputs": [
    {
     "name": "stdout",
     "output_type": "stream",
     "text": [
      "Accuracy score train :  0.8080568720379147\n",
      "Accuracy score test :  0.8131868131868132\n"
     ]
    }
   ],
   "source": [
    "#skoring data train & test dengan estimator\n",
    "y_pred_train_nb_gs = best_nb_model.predict(X_train)\n",
    "y_pred_test_nb_gs = best_nb_model.predict(X_test)\n",
    "\n",
    "# Evaluasi model\n",
    "print('Accuracy score train : ', accuracy_score(y_train, y_pred_train_nb_gs))\n",
    "print('Accuracy score test : ', accuracy_score(y_test, y_pred_test_nb_gs))\n"
   ]
  },
  {
   "cell_type": "code",
   "execution_count": 49,
   "metadata": {},
   "outputs": [
    {
     "name": "stdout",
     "output_type": "stream",
     "text": [
      "              precision    recall  f1-score   support\n",
      "\n",
      "           0       0.95      0.44      0.60       140\n",
      "           1       0.78      0.99      0.87       282\n",
      "\n",
      "    accuracy                           0.81       422\n",
      "   macro avg       0.87      0.72      0.74       422\n",
      "weighted avg       0.84      0.81      0.78       422\n",
      "\n",
      "              precision    recall  f1-score   support\n",
      "\n",
      "           0       0.83      0.39      0.53        49\n",
      "           1       0.81      0.97      0.88       133\n",
      "\n",
      "    accuracy                           0.81       182\n",
      "   macro avg       0.82      0.68      0.71       182\n",
      "weighted avg       0.82      0.81      0.79       182\n",
      "\n"
     ]
    }
   ],
   "source": [
    "##hasil prediksi dengan estimator\n",
    "print(classification_report(y_train,y_pred_train_nb_gs))\n",
    "\n",
    "print(classification_report(y_test,y_pred_test_nb_gs))"
   ]
  },
  {
   "cell_type": "markdown",
   "metadata": {},
   "source": [
    "# **MODEL SAVNING**"
   ]
  },
  {
   "cell_type": "code",
   "execution_count": 50,
   "metadata": {},
   "outputs": [],
   "source": [
    "#fungsi Naive Bayes untuk model saving\n",
    "pipe_nb_save = imbpipe([\n",
    "    ('preprocess', full_pipeline),\n",
    "    ('naive_bayes', GaussianNB())\n",
    "])"
   ]
  },
  {
   "cell_type": "code",
   "execution_count": 51,
   "metadata": {},
   "outputs": [
    {
     "data": {
      "text/html": [
       "<style>#sk-container-id-3 {color: black;background-color: white;}#sk-container-id-3 pre{padding: 0;}#sk-container-id-3 div.sk-toggleable {background-color: white;}#sk-container-id-3 label.sk-toggleable__label {cursor: pointer;display: block;width: 100%;margin-bottom: 0;padding: 0.3em;box-sizing: border-box;text-align: center;}#sk-container-id-3 label.sk-toggleable__label-arrow:before {content: \"▸\";float: left;margin-right: 0.25em;color: #696969;}#sk-container-id-3 label.sk-toggleable__label-arrow:hover:before {color: black;}#sk-container-id-3 div.sk-estimator:hover label.sk-toggleable__label-arrow:before {color: black;}#sk-container-id-3 div.sk-toggleable__content {max-height: 0;max-width: 0;overflow: hidden;text-align: left;background-color: #f0f8ff;}#sk-container-id-3 div.sk-toggleable__content pre {margin: 0.2em;color: black;border-radius: 0.25em;background-color: #f0f8ff;}#sk-container-id-3 input.sk-toggleable__control:checked~div.sk-toggleable__content {max-height: 200px;max-width: 100%;overflow: auto;}#sk-container-id-3 input.sk-toggleable__control:checked~label.sk-toggleable__label-arrow:before {content: \"▾\";}#sk-container-id-3 div.sk-estimator input.sk-toggleable__control:checked~label.sk-toggleable__label {background-color: #d4ebff;}#sk-container-id-3 div.sk-label input.sk-toggleable__control:checked~label.sk-toggleable__label {background-color: #d4ebff;}#sk-container-id-3 input.sk-hidden--visually {border: 0;clip: rect(1px 1px 1px 1px);clip: rect(1px, 1px, 1px, 1px);height: 1px;margin: -1px;overflow: hidden;padding: 0;position: absolute;width: 1px;}#sk-container-id-3 div.sk-estimator {font-family: monospace;background-color: #f0f8ff;border: 1px dotted black;border-radius: 0.25em;box-sizing: border-box;margin-bottom: 0.5em;}#sk-container-id-3 div.sk-estimator:hover {background-color: #d4ebff;}#sk-container-id-3 div.sk-parallel-item::after {content: \"\";width: 100%;border-bottom: 1px solid gray;flex-grow: 1;}#sk-container-id-3 div.sk-label:hover label.sk-toggleable__label {background-color: #d4ebff;}#sk-container-id-3 div.sk-serial::before {content: \"\";position: absolute;border-left: 1px solid gray;box-sizing: border-box;top: 0;bottom: 0;left: 50%;z-index: 0;}#sk-container-id-3 div.sk-serial {display: flex;flex-direction: column;align-items: center;background-color: white;padding-right: 0.2em;padding-left: 0.2em;position: relative;}#sk-container-id-3 div.sk-item {position: relative;z-index: 1;}#sk-container-id-3 div.sk-parallel {display: flex;align-items: stretch;justify-content: center;background-color: white;position: relative;}#sk-container-id-3 div.sk-item::before, #sk-container-id-3 div.sk-parallel-item::before {content: \"\";position: absolute;border-left: 1px solid gray;box-sizing: border-box;top: 0;bottom: 0;left: 50%;z-index: -1;}#sk-container-id-3 div.sk-parallel-item {display: flex;flex-direction: column;z-index: 1;position: relative;background-color: white;}#sk-container-id-3 div.sk-parallel-item:first-child::after {align-self: flex-end;width: 50%;}#sk-container-id-3 div.sk-parallel-item:last-child::after {align-self: flex-start;width: 50%;}#sk-container-id-3 div.sk-parallel-item:only-child::after {width: 0;}#sk-container-id-3 div.sk-dashed-wrapped {border: 1px dashed gray;margin: 0 0.4em 0.5em 0.4em;box-sizing: border-box;padding-bottom: 0.4em;background-color: white;}#sk-container-id-3 div.sk-label label {font-family: monospace;font-weight: bold;display: inline-block;line-height: 1.2em;}#sk-container-id-3 div.sk-label-container {text-align: center;}#sk-container-id-3 div.sk-container {/* jupyter's `normalize.less` sets `[hidden] { display: none; }` but bootstrap.min.css set `[hidden] { display: none !important; }` so we also need the `!important` here to be able to override the default hidden behavior on the sphinx rendered scikit-learn.org. See: https://github.com/scikit-learn/scikit-learn/issues/21755 */display: inline-block !important;position: relative;}#sk-container-id-3 div.sk-text-repr-fallback {display: none;}</style><div id=\"sk-container-id-3\" class=\"sk-top-container\"><div class=\"sk-text-repr-fallback\"><pre>Pipeline(steps=[(&#x27;preprocess&#x27;,\n",
       "                 ColumnTransformer(transformers=[(&#x27;numerik&#x27;,\n",
       "                                                  Pipeline(steps=[(&#x27;impute MV&#x27;,\n",
       "                                                                   SimpleImputer()),\n",
       "                                                                  (&#x27;scaler&#x27;,\n",
       "                                                                   StandardScaler()),\n",
       "                                                                  (&#x27;outlier&#x27;,\n",
       "                                                                   Winsorizer(capping_method=&#x27;iqr&#x27;,\n",
       "                                                                              fold=1.5,\n",
       "                                                                              tail=&#x27;both&#x27;))]),\n",
       "                                                  [&#x27;ApplicantIncome&#x27;,\n",
       "                                                   &#x27;CoapplicantIncome&#x27;,\n",
       "                                                   &#x27;LoanAmount&#x27;]),\n",
       "                                                 (&#x27;kategorik&#x27;,\n",
       "                                                  Pipeline(steps=[(&#x27;impute MV&#x27;,\n",
       "                                                                   SimpleImputer(strategy=&#x27;most_frequent&#x27;)),\n",
       "                                                                  (&#x27;ordinalencoder&#x27;,\n",
       "                                                                   OrdinalEncoder())]),\n",
       "                                                  [&#x27;Married&#x27;, &#x27;Dependents&#x27;,\n",
       "                                                   &#x27;Education&#x27;,\n",
       "                                                   &#x27;Credit_History&#x27;])])),\n",
       "                (&#x27;naive_bayes&#x27;, GaussianNB())])</pre><b>In a Jupyter environment, please rerun this cell to show the HTML representation or trust the notebook. <br />On GitHub, the HTML representation is unable to render, please try loading this page with nbviewer.org.</b></div><div class=\"sk-container\" hidden><div class=\"sk-item sk-dashed-wrapped\"><div class=\"sk-label-container\"><div class=\"sk-label sk-toggleable\"><input class=\"sk-toggleable__control sk-hidden--visually\" id=\"sk-estimator-id-23\" type=\"checkbox\" ><label for=\"sk-estimator-id-23\" class=\"sk-toggleable__label sk-toggleable__label-arrow\">Pipeline</label><div class=\"sk-toggleable__content\"><pre>Pipeline(steps=[(&#x27;preprocess&#x27;,\n",
       "                 ColumnTransformer(transformers=[(&#x27;numerik&#x27;,\n",
       "                                                  Pipeline(steps=[(&#x27;impute MV&#x27;,\n",
       "                                                                   SimpleImputer()),\n",
       "                                                                  (&#x27;scaler&#x27;,\n",
       "                                                                   StandardScaler()),\n",
       "                                                                  (&#x27;outlier&#x27;,\n",
       "                                                                   Winsorizer(capping_method=&#x27;iqr&#x27;,\n",
       "                                                                              fold=1.5,\n",
       "                                                                              tail=&#x27;both&#x27;))]),\n",
       "                                                  [&#x27;ApplicantIncome&#x27;,\n",
       "                                                   &#x27;CoapplicantIncome&#x27;,\n",
       "                                                   &#x27;LoanAmount&#x27;]),\n",
       "                                                 (&#x27;kategorik&#x27;,\n",
       "                                                  Pipeline(steps=[(&#x27;impute MV&#x27;,\n",
       "                                                                   SimpleImputer(strategy=&#x27;most_frequent&#x27;)),\n",
       "                                                                  (&#x27;ordinalencoder&#x27;,\n",
       "                                                                   OrdinalEncoder())]),\n",
       "                                                  [&#x27;Married&#x27;, &#x27;Dependents&#x27;,\n",
       "                                                   &#x27;Education&#x27;,\n",
       "                                                   &#x27;Credit_History&#x27;])])),\n",
       "                (&#x27;naive_bayes&#x27;, GaussianNB())])</pre></div></div></div><div class=\"sk-serial\"><div class=\"sk-item sk-dashed-wrapped\"><div class=\"sk-label-container\"><div class=\"sk-label sk-toggleable\"><input class=\"sk-toggleable__control sk-hidden--visually\" id=\"sk-estimator-id-24\" type=\"checkbox\" ><label for=\"sk-estimator-id-24\" class=\"sk-toggleable__label sk-toggleable__label-arrow\">preprocess: ColumnTransformer</label><div class=\"sk-toggleable__content\"><pre>ColumnTransformer(transformers=[(&#x27;numerik&#x27;,\n",
       "                                 Pipeline(steps=[(&#x27;impute MV&#x27;, SimpleImputer()),\n",
       "                                                 (&#x27;scaler&#x27;, StandardScaler()),\n",
       "                                                 (&#x27;outlier&#x27;,\n",
       "                                                  Winsorizer(capping_method=&#x27;iqr&#x27;,\n",
       "                                                             fold=1.5,\n",
       "                                                             tail=&#x27;both&#x27;))]),\n",
       "                                 [&#x27;ApplicantIncome&#x27;, &#x27;CoapplicantIncome&#x27;,\n",
       "                                  &#x27;LoanAmount&#x27;]),\n",
       "                                (&#x27;kategorik&#x27;,\n",
       "                                 Pipeline(steps=[(&#x27;impute MV&#x27;,\n",
       "                                                  SimpleImputer(strategy=&#x27;most_frequent&#x27;)),\n",
       "                                                 (&#x27;ordinalencoder&#x27;,\n",
       "                                                  OrdinalEncoder())]),\n",
       "                                 [&#x27;Married&#x27;, &#x27;Dependents&#x27;, &#x27;Education&#x27;,\n",
       "                                  &#x27;Credit_History&#x27;])])</pre></div></div></div><div class=\"sk-parallel\"><div class=\"sk-parallel-item\"><div class=\"sk-item\"><div class=\"sk-label-container\"><div class=\"sk-label sk-toggleable\"><input class=\"sk-toggleable__control sk-hidden--visually\" id=\"sk-estimator-id-25\" type=\"checkbox\" ><label for=\"sk-estimator-id-25\" class=\"sk-toggleable__label sk-toggleable__label-arrow\">numerik</label><div class=\"sk-toggleable__content\"><pre>[&#x27;ApplicantIncome&#x27;, &#x27;CoapplicantIncome&#x27;, &#x27;LoanAmount&#x27;]</pre></div></div></div><div class=\"sk-serial\"><div class=\"sk-item\"><div class=\"sk-serial\"><div class=\"sk-item\"><div class=\"sk-estimator sk-toggleable\"><input class=\"sk-toggleable__control sk-hidden--visually\" id=\"sk-estimator-id-26\" type=\"checkbox\" ><label for=\"sk-estimator-id-26\" class=\"sk-toggleable__label sk-toggleable__label-arrow\">SimpleImputer</label><div class=\"sk-toggleable__content\"><pre>SimpleImputer()</pre></div></div></div><div class=\"sk-item\"><div class=\"sk-estimator sk-toggleable\"><input class=\"sk-toggleable__control sk-hidden--visually\" id=\"sk-estimator-id-27\" type=\"checkbox\" ><label for=\"sk-estimator-id-27\" class=\"sk-toggleable__label sk-toggleable__label-arrow\">StandardScaler</label><div class=\"sk-toggleable__content\"><pre>StandardScaler()</pre></div></div></div><div class=\"sk-item\"><div class=\"sk-estimator sk-toggleable\"><input class=\"sk-toggleable__control sk-hidden--visually\" id=\"sk-estimator-id-28\" type=\"checkbox\" ><label for=\"sk-estimator-id-28\" class=\"sk-toggleable__label sk-toggleable__label-arrow\">Winsorizer</label><div class=\"sk-toggleable__content\"><pre>Winsorizer(capping_method=&#x27;iqr&#x27;, fold=1.5, tail=&#x27;both&#x27;)</pre></div></div></div></div></div></div></div></div><div class=\"sk-parallel-item\"><div class=\"sk-item\"><div class=\"sk-label-container\"><div class=\"sk-label sk-toggleable\"><input class=\"sk-toggleable__control sk-hidden--visually\" id=\"sk-estimator-id-29\" type=\"checkbox\" ><label for=\"sk-estimator-id-29\" class=\"sk-toggleable__label sk-toggleable__label-arrow\">kategorik</label><div class=\"sk-toggleable__content\"><pre>[&#x27;Married&#x27;, &#x27;Dependents&#x27;, &#x27;Education&#x27;, &#x27;Credit_History&#x27;]</pre></div></div></div><div class=\"sk-serial\"><div class=\"sk-item\"><div class=\"sk-serial\"><div class=\"sk-item\"><div class=\"sk-estimator sk-toggleable\"><input class=\"sk-toggleable__control sk-hidden--visually\" id=\"sk-estimator-id-30\" type=\"checkbox\" ><label for=\"sk-estimator-id-30\" class=\"sk-toggleable__label sk-toggleable__label-arrow\">SimpleImputer</label><div class=\"sk-toggleable__content\"><pre>SimpleImputer(strategy=&#x27;most_frequent&#x27;)</pre></div></div></div><div class=\"sk-item\"><div class=\"sk-estimator sk-toggleable\"><input class=\"sk-toggleable__control sk-hidden--visually\" id=\"sk-estimator-id-31\" type=\"checkbox\" ><label for=\"sk-estimator-id-31\" class=\"sk-toggleable__label sk-toggleable__label-arrow\">OrdinalEncoder</label><div class=\"sk-toggleable__content\"><pre>OrdinalEncoder()</pre></div></div></div></div></div></div></div></div></div></div><div class=\"sk-item\"><div class=\"sk-estimator sk-toggleable\"><input class=\"sk-toggleable__control sk-hidden--visually\" id=\"sk-estimator-id-32\" type=\"checkbox\" ><label for=\"sk-estimator-id-32\" class=\"sk-toggleable__label sk-toggleable__label-arrow\">GaussianNB</label><div class=\"sk-toggleable__content\"><pre>GaussianNB()</pre></div></div></div></div></div></div></div>"
      ],
      "text/plain": [
       "Pipeline(steps=[('preprocess',\n",
       "                 ColumnTransformer(transformers=[('numerik',\n",
       "                                                  Pipeline(steps=[('impute MV',\n",
       "                                                                   SimpleImputer()),\n",
       "                                                                  ('scaler',\n",
       "                                                                   StandardScaler()),\n",
       "                                                                  ('outlier',\n",
       "                                                                   Winsorizer(capping_method='iqr',\n",
       "                                                                              fold=1.5,\n",
       "                                                                              tail='both'))]),\n",
       "                                                  ['ApplicantIncome',\n",
       "                                                   'CoapplicantIncome',\n",
       "                                                   'LoanAmount']),\n",
       "                                                 ('kategorik',\n",
       "                                                  Pipeline(steps=[('impute MV',\n",
       "                                                                   SimpleImputer(strategy='most_frequent')),\n",
       "                                                                  ('ordinalencoder',\n",
       "                                                                   OrdinalEncoder())]),\n",
       "                                                  ['Married', 'Dependents',\n",
       "                                                   'Education',\n",
       "                                                   'Credit_History'])])),\n",
       "                ('naive_bayes', GaussianNB())])"
      ]
     },
     "execution_count": 51,
     "metadata": {},
     "output_type": "execute_result"
    }
   ],
   "source": [
    "#model naive bayes untuk model saving\n",
    "model_nb_save = pipe_nb_save.fit(X_train,y_train)\n",
    "model_nb_save"
   ]
  },
  {
   "cell_type": "code",
   "execution_count": 52,
   "metadata": {},
   "outputs": [
    {
     "data": {
      "text/plain": [
       "['model_nb_save']"
      ]
     },
     "execution_count": 52,
     "metadata": {},
     "output_type": "execute_result"
    }
   ],
   "source": [
    "joblib.dump(model_nb_save, 'model_nb_save')"
   ]
  },
  {
   "cell_type": "code",
   "execution_count": 53,
   "metadata": {},
   "outputs": [
    {
     "data": {
      "text/html": [
       "<div>\n",
       "<style scoped>\n",
       "    .dataframe tbody tr th:only-of-type {\n",
       "        vertical-align: middle;\n",
       "    }\n",
       "\n",
       "    .dataframe tbody tr th {\n",
       "        vertical-align: top;\n",
       "    }\n",
       "\n",
       "    .dataframe thead th {\n",
       "        text-align: right;\n",
       "    }\n",
       "</style>\n",
       "<table border=\"1\" class=\"dataframe\">\n",
       "  <thead>\n",
       "    <tr style=\"text-align: right;\">\n",
       "      <th></th>\n",
       "      <th>Married</th>\n",
       "      <th>Dependents</th>\n",
       "      <th>Education</th>\n",
       "      <th>ApplicantIncome</th>\n",
       "      <th>CoapplicantIncome</th>\n",
       "      <th>LoanAmount</th>\n",
       "      <th>Credit_History</th>\n",
       "    </tr>\n",
       "  </thead>\n",
       "  <tbody>\n",
       "    <tr>\n",
       "      <th>146</th>\n",
       "      <td>No</td>\n",
       "      <td>0</td>\n",
       "      <td>Graduate</td>\n",
       "      <td>10000</td>\n",
       "      <td>1666.0</td>\n",
       "      <td>225.0</td>\n",
       "      <td>1.0</td>\n",
       "    </tr>\n",
       "    <tr>\n",
       "      <th>510</th>\n",
       "      <td>No</td>\n",
       "      <td>0</td>\n",
       "      <td>Not Graduate</td>\n",
       "      <td>3400</td>\n",
       "      <td>0.0</td>\n",
       "      <td>95.0</td>\n",
       "      <td>1.0</td>\n",
       "    </tr>\n",
       "    <tr>\n",
       "      <th>343</th>\n",
       "      <td>Yes</td>\n",
       "      <td>0</td>\n",
       "      <td>Graduate</td>\n",
       "      <td>9083</td>\n",
       "      <td>0.0</td>\n",
       "      <td>228.0</td>\n",
       "      <td>1.0</td>\n",
       "    </tr>\n",
       "    <tr>\n",
       "      <th>274</th>\n",
       "      <td>Yes</td>\n",
       "      <td>0</td>\n",
       "      <td>Not Graduate</td>\n",
       "      <td>4100</td>\n",
       "      <td>0.0</td>\n",
       "      <td>124.0</td>\n",
       "      <td>NaN</td>\n",
       "    </tr>\n",
       "    <tr>\n",
       "      <th>370</th>\n",
       "      <td>Yes</td>\n",
       "      <td>0</td>\n",
       "      <td>Graduate</td>\n",
       "      <td>4310</td>\n",
       "      <td>0.0</td>\n",
       "      <td>130.0</td>\n",
       "      <td>NaN</td>\n",
       "    </tr>\n",
       "    <tr>\n",
       "      <th>...</th>\n",
       "      <td>...</td>\n",
       "      <td>...</td>\n",
       "      <td>...</td>\n",
       "      <td>...</td>\n",
       "      <td>...</td>\n",
       "      <td>...</td>\n",
       "      <td>...</td>\n",
       "    </tr>\n",
       "    <tr>\n",
       "      <th>369</th>\n",
       "      <td>Yes</td>\n",
       "      <td>3+</td>\n",
       "      <td>Graduate</td>\n",
       "      <td>8750</td>\n",
       "      <td>4996.0</td>\n",
       "      <td>130.0</td>\n",
       "      <td>1.0</td>\n",
       "    </tr>\n",
       "    <tr>\n",
       "      <th>320</th>\n",
       "      <td>Yes</td>\n",
       "      <td>0</td>\n",
       "      <td>Graduate</td>\n",
       "      <td>5818</td>\n",
       "      <td>2160.0</td>\n",
       "      <td>184.0</td>\n",
       "      <td>1.0</td>\n",
       "    </tr>\n",
       "    <tr>\n",
       "      <th>527</th>\n",
       "      <td>Yes</td>\n",
       "      <td>0</td>\n",
       "      <td>Graduate</td>\n",
       "      <td>6133</td>\n",
       "      <td>3906.0</td>\n",
       "      <td>324.0</td>\n",
       "      <td>1.0</td>\n",
       "    </tr>\n",
       "    <tr>\n",
       "      <th>125</th>\n",
       "      <td>Yes</td>\n",
       "      <td>3+</td>\n",
       "      <td>Graduate</td>\n",
       "      <td>23803</td>\n",
       "      <td>0.0</td>\n",
       "      <td>370.0</td>\n",
       "      <td>1.0</td>\n",
       "    </tr>\n",
       "    <tr>\n",
       "      <th>265</th>\n",
       "      <td>No</td>\n",
       "      <td>0</td>\n",
       "      <td>Graduate</td>\n",
       "      <td>3237</td>\n",
       "      <td>0.0</td>\n",
       "      <td>30.0</td>\n",
       "      <td>1.0</td>\n",
       "    </tr>\n",
       "  </tbody>\n",
       "</table>\n",
       "<p>422 rows × 7 columns</p>\n",
       "</div>"
      ],
      "text/plain": [
       "    Married Dependents     Education  ApplicantIncome  CoapplicantIncome   \n",
       "146      No          0      Graduate            10000             1666.0  \\\n",
       "510      No          0  Not Graduate             3400                0.0   \n",
       "343     Yes          0      Graduate             9083                0.0   \n",
       "274     Yes          0  Not Graduate             4100                0.0   \n",
       "370     Yes          0      Graduate             4310                0.0   \n",
       "..      ...        ...           ...              ...                ...   \n",
       "369     Yes         3+      Graduate             8750             4996.0   \n",
       "320     Yes          0      Graduate             5818             2160.0   \n",
       "527     Yes          0      Graduate             6133             3906.0   \n",
       "125     Yes         3+      Graduate            23803                0.0   \n",
       "265      No          0      Graduate             3237                0.0   \n",
       "\n",
       "     LoanAmount  Credit_History  \n",
       "146       225.0             1.0  \n",
       "510        95.0             1.0  \n",
       "343       228.0             1.0  \n",
       "274       124.0             NaN  \n",
       "370       130.0             NaN  \n",
       "..          ...             ...  \n",
       "369       130.0             1.0  \n",
       "320       184.0             1.0  \n",
       "527       324.0             1.0  \n",
       "125       370.0             1.0  \n",
       "265        30.0             1.0  \n",
       "\n",
       "[422 rows x 7 columns]"
      ]
     },
     "execution_count": 53,
     "metadata": {},
     "output_type": "execute_result"
    }
   ],
   "source": [
    "X_train"
   ]
  },
  {
   "cell_type": "markdown",
   "metadata": {},
   "source": [
    "# **MODEL INFERENCE**"
   ]
  },
  {
   "cell_type": "markdown",
   "metadata": {},
   "source": [
    "Model Inference dilakukan di notebook terpisah"
   ]
  },
  {
   "cell_type": "markdown",
   "metadata": {},
   "source": [
    "# **CONCLUSION**"
   ]
  },
  {
   "cell_type": "markdown",
   "metadata": {},
   "source": [
    "**MODEL ANALYSIS**\n",
    "\n",
    "Berdasarkan hasil pemilihan model, ditunjukan bahwa Naive Bayes mendapatkan nilai *cross-val* terbaik. Setelah itu setelah dilakukan hyperparameter tunning, tidak ada perbedaan sebelum dan sesudah dilakukan hyperparameter.\n",
    "\n",
    "Akan tetapi berdasarkan hasil skor accuracy, nilainya juga tidak jauh antar nilai train dan test. Dimana dapat dikatakan bahwa model ini tergolong *best fit*, akan tetapi nilai yang masih dikisaran 80% peneliti menyarankan bahwa model ini masih perlu di evaluasi.\n",
    "\n",
    "Kedepannya pemilihan fitur serta model lain patut dipertimbangkan untuk meningkatkan tingkat akurasi dari model."
   ]
  },
  {
   "cell_type": "markdown",
   "metadata": {},
   "source": [
    "**OVERALL ANALYSIS**\n",
    "\n",
    "Dari hasil diatas, peneliti menggunakan *business knowledge* yang sebelumnya pernah dipelajari terkait kredit dimana pada saat uji koerlasi ditemukan beberapa fitur yang peneliti kira penting, akan tetapi memiliki nilai korelasi yang rendah.\n",
    "\n",
    "Oleh karena itu peneliti menambahkan beberapa fitur yang memang secara nilai uji korelasi kecil, akan tetapi berdasarkan *business knowledge* berpengaruh.\n",
    "\n",
    "Model yang peneliti buat dapat dikatakan *goodfit* akan tetapi masih perlu improvement, oleh karena itu model ini tidak sepenuhnya dapat di implementasikan pada perusahaan, akan tetapi model ini dapat membantu penilaian pengajuan kredit tradisional yang sudah berjalan sebelumnya. Sebagai media crosscheck saja, tapi jangan dijadikan patokan keputusan kredit diterima atau ditolak pengajuannya.\n",
    "\n",
    "Dimana dengan *improvement* yang lebih baik peneliti yakin bahwa model ini dapat membantu tim dari *Account Officer* (tim yang biasanya mencari calon nasabah yang ingin meminjam uang ke pihak bank) dalam melakukan penilaian calon nasabah kredit, dimana dapat mempersingkat waktu penilaian dan diharapkan dapat meningkatkan keuntungan karena tim Account Officer tidak salah menilai calon nasabah yang akan merugikan perusahaan"
   ]
  }
 ],
 "metadata": {
  "kernelspec": {
   "display_name": "H8",
   "language": "python",
   "name": "python3"
  },
  "language_info": {
   "codemirror_mode": {
    "name": "ipython",
    "version": 3
   },
   "file_extension": ".py",
   "mimetype": "text/x-python",
   "name": "python",
   "nbconvert_exporter": "python",
   "pygments_lexer": "ipython3",
   "version": "3.8.16"
  },
  "orig_nbformat": 4
 },
 "nbformat": 4,
 "nbformat_minor": 2
}
